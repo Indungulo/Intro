{
 "cells": [
  {
   "cell_type": "raw",
   "metadata": {},
   "source": [
    "Authors: L. Biermann (UoP)\n",
    "Credits: This code was originally developed for the MaRS Modules.\n",
    "License: This code is offered as free-to-use in the public domain, with no warranty.\n",
    "Date_V2: 04/04/2025"
   ]
  },
  {
   "cell_type": "markdown",
   "metadata": {},
   "source": [
    "# First Introduction to Python Jupyter Notebooks"
   ]
  },
  {
   "cell_type": "markdown",
   "metadata": {},
   "source": [
    "<div class=\"alert alert-info\" role=\"alert\" \n",
    "     style=\"font-size: 1.0em; padding: 10px; margin: 10px 0; text-align: left;\">\n",
    "    \n",
    "     Welcome! This notebook will introduce you to the very basics of Python. We'll cover:\n",
    "        - Printing messages\n",
    "        - Variables and data types\n",
    "        - Basic maths\n",
    "        - Lists and accessing elements\n",
    "        - Looping through lists\n",
    "        - Simple conditional statements\n",
    "        - Receiving user input                                                                                        .\n",
    "</div>"
   ]
  },
  {
   "cell_type": "markdown",
   "metadata": {},
   "source": [
    "## Let’s begin with the classic \"Hello, world!\""
   ]
  },
  {
   "cell_type": "raw",
   "metadata": {},
   "source": [
    "print() function\n",
    "----------------\n",
    "Incredibly valuable built-in Python function used to display output. It is a simple but essential tool for checking data formats, debugging code, and providing feedback.\n",
    "\n",
    "Python's print() function takes one or more values (strings, numbers, or variables), converts them to strings, and sends the resulting text to the screen. \n",
    "Let's test it:"
   ]
  },
  {
   "cell_type": "code",
   "execution_count": null,
   "metadata": {},
   "outputs": [],
   "source": [
    "# Print to the screen:\n",
    "print(\"Hello, world!\")"
   ]
  },
  {
   "cell_type": "markdown",
   "metadata": {},
   "source": [
    "## Variables: numercial and text data types"
   ]
  },
  {
   "cell_type": "code",
   "execution_count": null,
   "metadata": {},
   "outputs": [],
   "source": [
    "# Input your lucky number \n",
    "my_fav_number = 13\n",
    "# Input text -- You'll notice we use \" \" so Python knows it's not a variable or number\n",
    "the_good_news = \"python is ace!\"\n",
    "\n",
    "# Print the values of the variables\n",
    "print(\"Number:\", my_fav_number)\n",
    "print(\"Text:\",   the_good_news)"
   ]
  },
  {
   "cell_type": "markdown",
   "metadata": {},
   "source": [
    "## Basic Mathematics"
   ]
  },
  {
   "cell_type": "code",
   "execution_count": null,
   "metadata": {},
   "outputs": [],
   "source": [
    "# Define variables a and b\n",
    "a = 550.42\n",
    "b = 321\n",
    "\n",
    "# Calculations:\n",
    "sum  = a + b\n",
    "diff = a - b\n",
    "prod = a * b\n",
    "mean = sum/2\n",
    "\n",
    "# Display the results\n",
    "print(\"Sum  :\", sum )\n",
    "print(\"Diff :\", diff)\n",
    "print(\"Prod :\", prod)\n",
    "print(\"Mean :\", mean)"
   ]
  },
  {
   "cell_type": "markdown",
   "metadata": {},
   "source": [
    "#### NOTE: We can use Python's `f-string` formatting to reformat the output to 2 decimal places."
   ]
  },
  {
   "cell_type": "code",
   "execution_count": null,
   "metadata": {},
   "outputs": [],
   "source": [
    "# Print two decimal places:\n",
    "print(f\"Sum  : {sum:.2f}\" )\n",
    "print(f\"Diff : {diff:.2f}\")\n",
    "print(f\"Prod : {prod:.2f}\")\n",
    "print(f\"Mean : {mean:.2f}\")"
   ]
  },
  {
   "cell_type": "markdown",
   "metadata": {},
   "source": [
    "## Lists and Indexing"
   ]
  },
  {
   "cell_type": "code",
   "execution_count": null,
   "metadata": {},
   "outputs": [],
   "source": [
    "# Generate a comma-separated list of text variables\n",
    "# -\"fruit\" that went into my smoothie this morning:\n",
    "fruits = [\"bananas\", \"cherries\", \"strawberries\", \"kiwi\", \"grapes\", \"watermelon\", \"blueberries\", \"apple\", \"satsuma\"]\n",
    "\n",
    "# Print the whole list:\n",
    "print(\"Fruit:\", fruits)\n",
    "\n",
    "# Access the first element of the list\n",
    "# NOTE: Python starts counting (indexing) from 0 not 1\n",
    "print(fruits[0])\n",
    "\n",
    "# Access the last element of the list.\n",
    "# -1 is read by python as the final index of the list\n",
    "print(fruits[-1])"
   ]
  },
  {
   "cell_type": "markdown",
   "metadata": {},
   "source": [
    "## Looping through the list"
   ]
  },
  {
   "cell_type": "code",
   "execution_count": null,
   "metadata": {},
   "outputs": [],
   "source": [
    "# Use a `for loop` to iterate over the list of fruits\n",
    "for ii in fruits:\n",
    "    print(\"-\",ii)"
   ]
  },
  {
   "cell_type": "code",
   "execution_count": null,
   "metadata": {},
   "outputs": [],
   "source": [
    "# Use `enumerate` to iterate over the list to get index (number) and fruit\n",
    "for idx, fruit in enumerate(fruits):\n",
    "    print(\"Ingredient\",idx,'-', fruit)"
   ]
  },
  {
   "cell_type": "markdown",
   "metadata": {},
   "source": [
    "## Conditional Statements"
   ]
  },
  {
   "cell_type": "code",
   "execution_count": null,
   "metadata": {},
   "outputs": [],
   "source": [
    "# Simple if-else statement\n",
    "Temperature = 30\n",
    "\n",
    "if Temperature > 18:\n",
    "    print(\"It's warm!\")\n",
    "else:\n",
    "    print(\"It's cool!\")"
   ]
  },
  {
   "cell_type": "markdown",
   "metadata": {},
   "source": [
    "## User Input"
   ]
  },
  {
   "cell_type": "code",
   "execution_count": null,
   "metadata": {},
   "outputs": [],
   "source": [
    "# Time to say goodbye!\n",
    "name = input(\"What is your name?\")\n",
    "print(\"See you next week,\", name)"
   ]
  },
  {
   "cell_type": "markdown",
   "metadata": {},
   "source": [
    "<div class=\"alert alert-info\" role=\"alert\" \n",
    "     style=\"font-size: 1.1em; padding: 10px; margin: 10px 0; text-align: center;\">\n",
    "    \n",
    "    Congratulations! You've learned some of the very basics of Python. Practice these concepts until you're comfortable. In future lessons, we'll build on these fundamentals with more complex tasks.\n",
    "</div>"
   ]
  }
 ],
 "metadata": {
  "kernelspec": {
   "display_name": "Python 3 (ipykernel)",
   "language": "python",
   "name": "python3"
  },
  "language_info": {
   "codemirror_mode": {
    "name": "ipython",
    "version": 3
   },
   "file_extension": ".py",
   "mimetype": "text/x-python",
   "name": "python",
   "nbconvert_exporter": "python",
   "pygments_lexer": "ipython3",
   "version": "3.11.8"
  }
 },
 "nbformat": 4,
 "nbformat_minor": 4
}
