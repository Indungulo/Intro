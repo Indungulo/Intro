{
 "cells": [
  {
   "cell_type": "raw",
   "metadata": {},
   "source": [
    "Authors: L. Biermann (UoP)\n",
    "Credits: This code was originally developed for the MaRS Modules.\n",
    "License: This code is offered as free-to-use in the public domain, with no warranty.\n",
    "Date_V2: 17/06/2025"
   ]
  },
  {
   "cell_type": "markdown",
   "metadata": {
    "id": "ohKAsTz_VE6K"
   },
   "source": [
    "# Introduction to Data Processing in Python using Windy Birthdays!"
   ]
  },
  {
   "cell_type": "markdown",
   "metadata": {},
   "source": [
    "<div class = \"alert alert-info\" role = \"alert\" \n",
    "     style = \"font-size: 1.1em; padding: 15px; margin: 0px 0; text-align: left\">\n",
    "\n",
    "     In this tutorial, we will:\n",
    "       1st ▷ download meteorological data from Rame Head NCI\n",
    "       2nd ▷ use Python to help us assess wind and temperature measurements.\n",
    "\n",
    "</div>"
   ]
  },
  {
   "cell_type": "markdown",
   "metadata": {},
   "source": [
    "### `▶▶` [LINK](http://www.nci-ramehead.org.uk/weather/archive/) `◀◀` to the RH archive where you will download a 2-day txt file that includes your most recent birthday "
   ]
  },
  {
   "cell_type": "markdown",
   "metadata": {},
   "source": [
    "<div class=\"alert alert-info\" role=\"alert\"\n",
    "     style=\"color:#000; font-size:1.1em; background-color:white; padding:10px; margin:1px; text-align:left;\">\n",
    "    \n",
    "`How would we instruct a computer to assess wind and temperature measurements from the Rame Head weather measurements for us?` \n",
    "\n",
    "When you're still learning to code, it helps to first write out the steps you would need to analyse your data. Code - whether it is Python or R - is a type of instructive language that a computer \"understands\". In other words, coding is the process of giving your computer clear instructions so that it can do your work for you.\n",
    "    \n",
    "-----\n",
    "\n",
    "\n",
    "#### ▶ Python, follow these steps:\n",
    "1. Import the libraries needed for (i) data analysis (`numpy`, `pandas`) and (ii) plotting (`matplotlib`).\n",
    "1. Load the Rame Head weather data into a neat table that is easy to work with, say a `dataframe` called weather_df.\n",
    "1. Let me LOOK at the information inside the dataframe I just made:\n",
    "    - was this import successful?\n",
    "    - are my successfully imported data in an ideal format?\n",
    "1. If no, help me to fix my problems, and make a new dataframe of the good data called bday_df.\n",
    "1. Help me do some basic analysis, like find the `min` and `max` values of wind speed measured on my birthday.\n",
    "1. Let me see variations through the day with a `line plot` of temperature and wind speeds from my birthday day.\n",
    "1. Show me distributions of temperature and wind speeds from my birthday day with a `boxplot`.\n",
    "\n",
    "</div>"
   ]
  },
  {
   "cell_type": "markdown",
   "metadata": {},
   "source": [
    "### Step 1 ▶ ALWAYS first import the `libraries` you'll need -- basic setup"
   ]
  },
  {
   "cell_type": "code",
   "execution_count": 1,
   "metadata": {},
   "outputs": [],
   "source": [
    "# Data Handling and Manipulation\n",
    "import os\n",
    "import numpy as np\n",
    "import pandas as pd\n",
    "\n",
    "# Data Visualisation and Plots\n",
    "import matplotlib.pyplot as plt\n",
    "import matplotlib.dates as mdates\n",
    "\n",
    "# Supress warnings (not errors)\n",
    "import warnings\n",
    "warnings.filterwarnings('ignore')"
   ]
  },
  {
   "cell_type": "markdown",
   "metadata": {},
   "source": [
    "### Step 2 ▶ Import the data into a dataframe using `pandas` `read_csv` function"
   ]
  },
  {
   "cell_type": "code",
   "execution_count": null,
   "metadata": {},
   "outputs": [],
   "source": [
    "# First: - Give directions to your data (set the path) \n",
    "#        - Give your long filename a short name, file\n",
    "\n",
    "path = \"data/\"\n",
    "file = 'P2_TestData_Rame_Head_Weather.txt'\n",
    "# David Attenborough's birthday: 8th May\n",
    "\n",
    "# Then: Import your data from txt file into pandas dataframe, df\n",
    "weather_df = pd.read_csv(os.path.join(path, file), delimiter = '\\t') # txt: TAB delimited, tell Python to separate by '\\t'\n"
   ]
  },
  {
   "cell_type": "markdown",
   "metadata": {},
   "source": [
    "### Step 3 ▶ Use `print()` to look inside dataframe, and check success"
   ]
  },
  {
   "cell_type": "code",
   "execution_count": null,
   "metadata": {},
   "outputs": [],
   "source": [
    "# Inspect your df using 'print'\n",
    "print(weather_df)"
   ]
  },
  {
   "cell_type": "markdown",
   "metadata": {},
   "source": [
    "<div class=\"alert alert-info\" role=\"alert\" \n",
    "     style=\"font-size: 1.em; padding: 10px; margin: 0px 0; text-align: left;\">\n",
    "\n",
    "     Oh no... \n",
    "     That doesn't look good!\n",
    "    \n",
    "       - First, open your birthday text file using Windows File Explorer (or Finder if MacBook). \n",
    "       - You'll see that Rame Head have tried to make the data they provide look nice by splitting header names over \n",
    "         two lines and adding a line of dashes before the numerical data starts.\n",
    "       - The columns also don't look like they're consistently tab spaced - done neatly for looks rather than regularity.\n",
    "       ★ Unfortunately, Python is going to struggle with this ★\n",
    "      \n",
    "     There are a few ways to fix things. \n",
    "       - One neat option is to selectively import the columns we want by number (count). \n",
    "       - REMEMBER: Python always starts counting from zero, not one.\n",
    "       - Column 0: 'Date'; Column 1: 'Time'; Column 2: 'Temp Out'; Column 7: 'Wind Speed'\n",
    "       \n",
    "\n",
    "</div>"
   ]
  },
  {
   "cell_type": "markdown",
   "metadata": {},
   "source": [
    "### Step 2 and 3 (again) ▶ Import the data into a dataframe and look inside"
   ]
  },
  {
   "cell_type": "code",
   "execution_count": null,
   "metadata": {},
   "outputs": [],
   "source": [
    "# Column numbers (count from 0)\n",
    "columns_to_read = [0, 1, 2, 7]   \n",
    "\n",
    "# Read in data from txt file to make a weather_df\n",
    "weather_df = pd.read_csv(os.path.join(path, file),         # - path to, and name of, your data file.\n",
    "                         delim_whitespace = True,          # - tells pythong that columns are separated by whitespace, not tab/comma.\n",
    "                         skiprows= 3,                      # - skips the first 3 rows which contain text and the separator line.\n",
    "                         usecols = columns_to_read,        # - tells python to only import the columns we pre-defined (0, 1, 2, 7).\n",
    "                         header  = None)                   # - prevents python from treating the first row as a header (column name).\n",
    "\n",
    "# Assign headers to columns\n",
    "weather_df.columns = ['Date', 'Time', 'Temp', 'Wind']\n",
    "\n",
    "# Display results\n",
    "print(weather_df)"
   ]
  },
  {
   "cell_type": "markdown",
   "metadata": {},
   "source": [
    "<div class=\"alert alert-info\" role=\"alert\" \n",
    "     style=\"font-size: 1.1em; padding: 10px; margin: 0px 0; text-align: center\">\n",
    "    \n",
    "    ✨ SUCCESS ✨\n",
    "</div>"
   ]
  },
  {
   "cell_type": "markdown",
   "metadata": {},
   "source": [
    "\n",
    "### Step 4 ▶ Data Handling and Manipulation"
   ]
  },
  {
   "cell_type": "code",
   "execution_count": null,
   "metadata": {},
   "outputs": [],
   "source": [
    "# How many unique days are in our file?\n",
    "num_days = weather_df['Date'].nunique()\n",
    "\n",
    "# Print the result\n",
    "print(f\"There are {num_days} days of data in the file, but we only want one - the birthday date.\")"
   ]
  },
  {
   "cell_type": "markdown",
   "metadata": {},
   "source": [
    "<div class = \"alert alert-info\" role = \"alert\" \n",
    "     style = \"color:#000; font-size: 1.1em; padding: 10px; margin: 0px 0; text-align: left\">\n",
    "\n",
    "\n",
    "**☆ Your Input Needed Here: ☆**\n",
    "    \n",
    "Replace '`date_from_df`' with a specified date from your dataframe (df) -- direct `copy` and `paste` is recommended.\n",
    "   \n",
    "</div>"
   ]
  },
  {
   "cell_type": "code",
   "execution_count": null,
   "metadata": {},
   "outputs": [],
   "source": [
    "birthday = '8/05/25'\n",
    "\n",
    "# Can you guess the Data Type held by variable 'birthday'?\n",
    "print(type(birthday))\n"
   ]
  },
  {
   "cell_type": "code",
   "execution_count": null,
   "metadata": {},
   "outputs": [],
   "source": [
    "# Filter 2-day weather_df for rows where 'Date' is 'birthday'\n",
    "# to make the new exclusive birthday only dataframe, bday_df\n",
    "\n",
    "bday_df = weather_df[weather_df['Date'] == birthday]\n",
    "\n",
    "# Show bday_df\n",
    "print(bday_df)"
   ]
  },
  {
   "cell_type": "markdown",
   "metadata": {},
   "source": [
    "<div class=\"alert alert-info\" role=\"alert\" \n",
    "     style=\"font-size: 1.em; padding: 10px; margin: 0px 0; text-align: left\">\n",
    "    \n",
    "     uhm, what just happened here? \n",
    "     Oh this? You just used Boolean masking, nbd.\n",
    "\n",
    "       - weather_df['Date'] == birthday makes a Boolean Series (revisit P0: Data Types)\n",
    "         • 'True' for all rows where Date matches the value stored in variable birthday.\n",
    "         • 'False' for all the rows where Date is NOT an exact match.\n",
    "         \n",
    "       - Your new dataframe, bday_df, contains only the rows from weather_df where the Date column exactly matches birthday.\n",
    "       \n",
    "\n",
    "</div>"
   ]
  },
  {
   "cell_type": "markdown",
   "metadata": {},
   "source": [
    "\n",
    "### Step 5 ▶ Basic Data Analysis including use of `pandas` `datetime` function to fix Dates"
   ]
  },
  {
   "cell_type": "code",
   "execution_count": null,
   "metadata": {},
   "outputs": [],
   "source": [
    "# Combine Date and Time into a new datetime (DTime) column\n",
    "bday_df['DTime'] = pd.to_datetime(bday_df['Date'] + ' ' + bday_df['Time'], \n",
    "                                 format = '%d/%m/%y %H:%M')"
   ]
  },
  {
   "cell_type": "code",
   "execution_count": null,
   "metadata": {},
   "outputs": [],
   "source": [
    "# What were the min, max wind speeds on your birthday?\n",
    "min_wind = bday_df['Wind'].min()\n",
    "max_wind = bday_df['Wind'].max()\n",
    "\n",
    "# Find the index of min, max wind speeds\n",
    "min_wind_ind = bday_df['Wind'].idxmin()\n",
    "max_wind_ind = bday_df['Wind'].idxmax()\n",
    "\n",
    "# Find the corresponding Date-Time (DTime)\n",
    "time_min = bday_df['DTime'][min_wind_ind]\n",
    "time_max = bday_df['DTime'][max_wind_ind]\n",
    "\n",
    "# Output min, max wind speeds with print\n",
    "print(\"On my birthday:\")\n",
    "print(f' - the min wind speed of {min_wind:.2f} m/s was measured at {time_min.strftime(\"%H:%M\")}')\n",
    "print(f' - the max wind speed of {max_wind:.1f} m/s was measured at {time_max.strftime(\"%H:%M\")}')"
   ]
  },
  {
   "cell_type": "markdown",
   "metadata": {},
   "source": [
    "---\n",
    "### Step 5: `Line plot` of temperature and wind from your birthday day"
   ]
  },
  {
   "cell_type": "markdown",
   "metadata": {},
   "source": [
    "<div class = \"alert alert-info\" role = \"alert\" \n",
    "     style = \"color:#000; font-size: 1.1em; padding: 10px; margin: 0px 0; text-align: left\">\n",
    "\n",
    "\n",
    "**☆ Your Input Needed Here: ☆**\n",
    "    \n",
    "Replace the `ylim (min, max)` with axis limits that show off your data best.\n",
    "   \n",
    "</div>"
   ]
  },
  {
   "cell_type": "code",
   "execution_count": null,
   "metadata": {},
   "outputs": [],
   "source": [
    "# Create fig with axes, size 13 x 4 (l, h)\n",
    "fig1, ax = plt.subplots(figsize = (15, 5))\n",
    "\n",
    "# Plot temp data using 's' square markers in red\n",
    "plt.plot(bday_df['DTime'], bday_df['Temp'], linestyle = ':', marker = 's', markersize = 1, color = 'red', \n",
    "         label = 'Temperature (°C )')\n",
    "# Plot wind speed using 'o' round marker in blue\n",
    "plt.plot(bday_df['DTime'], bday_df['Wind'], linestyle = ':', marker = 'o', markersize = 2, color = 'blue',\n",
    "         label = 'Wind Speed (m/s)')\n",
    "\n",
    "# Format x-axis:\n",
    "# 1. Set x-ticks for every 1 hour using mdates hour locator\n",
    "ax.xaxis.set_major_locator(mdates.HourLocator(interval = 1))\n",
    "\n",
    "# 2. Set x-ticks to only show HH:MM (hour:min) with no date\n",
    "ax.xaxis.set_major_formatter(mdates.DateFormatter('%H:%M' ))\n",
    "\n",
    "# 3. Angle x-ticks labels, rotation=n degrees\n",
    "plt.setp(ax.get_xticklabels(), rotation = 30)\n",
    "\n",
    "# 4. Add bold x-axis label\n",
    "ax.set_xlabel('Time', fontweight = 'bold')\n",
    "\n",
    "# Format y-axes:\n",
    "# Set min, max limits\n",
    "ax.set_ylim(-30 , 30)\n",
    "\n",
    "# Format figure\n",
    "# Add gridlines\n",
    "ax.grid(True, color = 'lightgrey', \n",
    "        linestyle = ':', linewidth = 0.5)\n",
    "\n",
    "# Add a header\n",
    "ax.set_title(f\"My Birthday Weather: {birthday}\", fontsize = 11, weight = 'bold')\n",
    "\n",
    "# Show legends\n",
    "ax.legend()\n",
    "\n",
    "# Show the plot\n",
    "plt.show()"
   ]
  },
  {
   "cell_type": "code",
   "execution_count": null,
   "metadata": {},
   "outputs": [],
   "source": [
    "# Save your figure by uncommenting the next line of code\n",
    "#fig1.savefig('Birthday_LinePlot.png', dpi = 300, bbox_inches = 'tight')"
   ]
  },
  {
   "cell_type": "markdown",
   "metadata": {},
   "source": [
    "### Step 6: `Boxplot` of temperature and wind from your birthday day"
   ]
  },
  {
   "cell_type": "code",
   "execution_count": null,
   "metadata": {},
   "outputs": [],
   "source": [
    "# Create your figure (fig2) and axis (ax)\n",
    "fig2, ax = plt.subplots(figsize = (6, 4))\n",
    "\n",
    "# Plot data with labels\n",
    "plt.boxplot([bday_df['Temp'], bday_df['Wind']], \n",
    "            labels = ['Temperature', 'Wind Speed'])\n",
    "\n",
    "# Add gridlines\n",
    "ax.grid(True, linestyle = ':', linewidth = 0.5, color = 'grey')\n",
    "\n",
    "# Add a figure title\n",
    "ax.set_title(f\"Birthday Weather in Plymouth: {birthday}\", \n",
    "             fontsize= 11, fontweight = 'bold')\n",
    "\n",
    "# Show the plot\n",
    "plt.show()"
   ]
  },
  {
   "cell_type": "code",
   "execution_count": null,
   "metadata": {},
   "outputs": [],
   "source": [
    "# Save your figure by uncommenting the next line of code\n",
    "#fig2.savefig('Birthday_Boxplots.png', dpi = 300, bbox_inches = 'tight')"
   ]
  },
  {
   "cell_type": "markdown",
   "metadata": {},
   "source": [
    "<div class=\"alert alert-info\" role=\"alert\" \n",
    "     style=\"font-size: 1.2em; padding: 10px; margin: 10px 0; text-align: center;\">\n",
    "    \n",
    "    Well done on successfully using python to plot and assess weather data from \n",
    "    ✨your special day✨\n",
    "</div>"
   ]
  },
  {
   "cell_type": "markdown",
   "metadata": {},
   "source": [
    "<div class=\"alert alert-info\" role=\"alert\"\n",
    "     style=\"color:#000; font-size:1.1em; padding:10px; margin:1px; text-align:left;\">\n",
    "    \n",
    "### `▢ Did you know? ▢`\n",
    "\n",
    " • The Rame Head station was opened in May 1998 and is part of the National Coastwatch Institution (NCI). \n",
    " \n",
    " • NCI Rame Head is one of 50 NCI stations operating around the British Isles.\n",
    "\n",
    " `▢` Learn more here:\n",
    "http://www.nci-ramehead.org.uk/weather/History_Vantage_Pro.htm\n",
    "\n",
    "</div>"
   ]
  }
 ],
 "metadata": {
  "colab": {
   "name": "CMEMS Timeseries tutorial.ipynb",
   "provenance": []
  },
  "kernelspec": {
   "display_name": "Python 3 (ipykernel)",
   "language": "python",
   "name": "python3"
  },
  "language_info": {
   "codemirror_mode": {
    "name": "ipython",
    "version": 3
   },
   "file_extension": ".py",
   "mimetype": "text/x-python",
   "name": "python",
   "nbconvert_exporter": "python",
   "pygments_lexer": "ipython3",
   "version": "3.12.7"
  }
 },
 "nbformat": 4,
 "nbformat_minor": 4
}
