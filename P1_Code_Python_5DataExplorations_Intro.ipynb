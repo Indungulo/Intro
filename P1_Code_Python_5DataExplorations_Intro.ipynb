{
 "cells": [
  {
   "cell_type": "raw",
   "metadata": {},
   "source": [
    "Authors: L. Biermann (UoP) and Haden Pelletier (https://medium.com/@pelletierhaden).\n",
    "Credits: This code was originally developed for the MaRS Modules.\n",
    "License: This code is offered as free-to-use in the public domain, with no warranty.\n",
    "Date_V1: 27/04/2025"
   ]
  },
  {
   "cell_type": "markdown",
   "metadata": {
    "id": "ohKAsTz_VE6K"
   },
   "source": [
    "## Python '`1-liners`' to start you on your data exploration journey."
   ]
  },
  {
   "cell_type": "markdown",
   "metadata": {},
   "source": [
    "<div class = \"alert alert-info\" role = \"alert\" \n",
    "     style = \"font-size: 1.3em; padding: 15px; margin: 0px 0; text-align: center\">\n",
    "    \n",
    "    In this tutorial, we will be kicking off exploratory data analysis\n",
    "    using 5 simple in-built functions.\n",
    "\n",
    "</div>"
   ]
  },
  {
   "cell_type": "markdown",
   "metadata": {},
   "source": [
    "### Basic Setup ▶▶ always first import the Python `libraries` you'll need"
   ]
  },
  {
   "cell_type": "code",
   "execution_count": null,
   "metadata": {},
   "outputs": [],
   "source": [
    "# Data Handling and Manipulation\n",
    "import os\n",
    "import numpy as np\n",
    "import pandas as pd\n",
    "\n",
    "# Data Visualisation and Plots\n",
    "import matplotlib.pyplot as plt\n",
    "\n",
    "# Supress warnings (not errors)\n",
    "import warnings\n",
    "warnings.filterwarnings('ignore')"
   ]
  },
  {
   "cell_type": "markdown",
   "metadata": {},
   "source": [
    "### Second, import the data for this practical using the Python `pandas` `read_csv` function"
   ]
  },
  {
   "cell_type": "code",
   "execution_count": null,
   "metadata": {},
   "outputs": [],
   "source": [
    "# Step 1: - Give directions to your data (set the path) \n",
    "#         - Give your long filename a short name, file\n",
    "\n",
    "path = \"data/\"\n",
    "file = 'P1_TestData_SeaSurface_Variables.csv'\n"
   ]
  },
  {
   "cell_type": "code",
   "execution_count": null,
   "metadata": {},
   "outputs": [],
   "source": [
    "# Step 2: Import your data into pandas dataframe\n",
    "\n",
    "dataframe = pd.read_csv(os.path.join(path, file),    # Python will follow your directions and looks for your filename\n",
    "                        delimiter = ',',             # CSV: comma delimited values, tells Python to separate by comma\n",
    "                        comment   = '#')             # Just in case, add hashtag so any descriptive text gets ignored\n"
   ]
  },
  {
   "cell_type": "markdown",
   "metadata": {},
   "source": [
    "<div class=\"alert alert-info\" role=\"alert\"\n",
    "     style=\"color:#000; font-size:1em; background-color:white; padding:10px; margin:1px; text-align:left;\">\n",
    "\n",
    "#### ⇑⇓ Quick Reminder ⇑⇓\n",
    "\n",
    "     \n",
    "    Remember the all-powerful and ever-useful 'print'?\n",
    "    Let's use it to look inside the dataframe we just made with data imported from our computer.\n",
    "</div>"
   ]
  },
  {
   "cell_type": "code",
   "execution_count": null,
   "metadata": {},
   "outputs": [],
   "source": [
    "# Inspect your dataframe using 'print'\n",
    "\n",
    "print(dataframe)\n"
   ]
  },
  {
   "cell_type": "markdown",
   "metadata": {},
   "source": [
    "<div class=\"alert alert-info\" \n",
    "    style=\"font-size: 1em; padding: 11px; margin: 0px 0; text-align: left\">\n",
    "    \n",
    "     That looks good! \n",
    "     Now we can go through 5 valuable 1-liners to explore your data in depth.\n",
    "    \n",
    "      1) info() \n",
    "      2) describe()\n",
    "      3) min() and max()\n",
    "      4) value_counts()\n",
    "      5) corr()\n",
    "      6) scatter() with polyfit \n",
    "      7) savefig()\n",
    "      \n",
    "</div>"
   ]
  },
  {
   "cell_type": "markdown",
   "metadata": {},
   "source": [
    "----\n",
    "### 1. Python's `info`"
   ]
  },
  {
   "cell_type": "code",
   "execution_count": null,
   "metadata": {},
   "outputs": [],
   "source": [
    "# Info Dump of everything you need to know about your data!\n",
    "# - Counts: RangeIndex 0 to 23 (24 total)\n",
    "# - Non-Nulls: if NaNs are present, how many\n",
    "# - Dtype: data type for each column\n",
    "\n",
    "dataframe.info()\n"
   ]
  },
  {
   "cell_type": "markdown",
   "metadata": {},
   "source": [
    "<div class=\"alert alert-info\" role=\"alert\"\n",
    "     style=\"color:#000; font-size:1em; background-color:white; padding:10px; margin:1px; text-align:left;\">\n",
    "\n",
    "#### ⇑⇓ Quick Reminder ⇑⇓\n",
    "     \n",
    "     Data Type is key! \n",
    "     Common types that you will come across include:\n",
    "     \n",
    "       • Text Type Data (words) : str\n",
    "       • Numeric Type (numbers) : int, float\n",
    "       • Boolean (true / false) : bool\n",
    "\n",
    "     By default, 'dates' are 'object' data type. \n",
    "     The pandas to_datetime() function converts dates/ times to 'datetime64[ns]' data type, so it is no longer a generic \n",
    "     object that Python may struggle to work with.\n",
    "     \n",
    "     We will apply the to_datetime() function later so that we can plot one of the variables in our dataframe over time \n",
    "     (optional).\n",
    "</div>"
   ]
  },
  {
   "cell_type": "markdown",
   "metadata": {},
   "source": [
    "### 2. Python's `describe`"
   ]
  },
  {
   "cell_type": "code",
   "execution_count": null,
   "metadata": {},
   "outputs": [],
   "source": [
    "# Outputs description of the numeric data in your DataFrame\n",
    "# - including: min, max, mean, and more\n",
    "\n",
    "dataframe.describe()\n"
   ]
  },
  {
   "cell_type": "markdown",
   "metadata": {},
   "source": [
    "<div class = \"alert alert-info\" role = \"alert\" \n",
    "     style = \"color:#000; font-size: 1.1em; padding: 10px; margin: 0px 0; text-align: left\">\n",
    "\n",
    "\n",
    "**☆ Your Input Needed Here: ☆**\n",
    "    \n",
    "In this line of code, you will need to change `'Column Name Here'` to `'Temperature'`, `'Height'`, or `'Salinity'`\n",
    "\n",
    "</div>"
   ]
  },
  {
   "cell_type": "code",
   "execution_count": null,
   "metadata": {},
   "outputs": [],
   "source": [
    "# Select specific column from the dataframe\n",
    "\n",
    "dataframe[['Column Name Here']].describe()\n"
   ]
  },
  {
   "cell_type": "markdown",
   "metadata": {},
   "source": [
    "### 3. Python's `min()` and `max()`"
   ]
  },
  {
   "cell_type": "code",
   "execution_count": null,
   "metadata": {},
   "outputs": [],
   "source": [
    "# Alternatively, ask for the features you want like min/max \n",
    "# from the specified numeric data column in your dataframe.\n",
    "\n",
    "# In this case, we selected 'Temperature'\n",
    "temp_min = dataframe['Temperature'].min()\n",
    "temp_max = dataframe['Temperature'].max()\n",
    "\n",
    "# Output min and max temp\n",
    "print(temp_min, temp_max)"
   ]
  },
  {
   "cell_type": "markdown",
   "metadata": {},
   "source": [
    "### 4. Python's `value_counts`"
   ]
  },
  {
   "cell_type": "code",
   "execution_count": null,
   "metadata": {},
   "outputs": [],
   "source": [
    "# In ascending order, output how often values in a specified numeric data column repeat.\n",
    "# In this case, we select 'Height'\n",
    "\n",
    "dataframe['Height'].value_counts()\n"
   ]
  },
  {
   "cell_type": "markdown",
   "metadata": {},
   "source": [
    "### 5. Python's `corr` for correlation - `r` and `R²`"
   ]
  },
  {
   "cell_type": "markdown",
   "metadata": {},
   "source": [
    "<div class=\"alert alert-info\" role=\"alert\"\n",
    "     style=\"color:#000; font-size:1em; background-color:white; padding:10px; margin:1px; text-align:left;\">\n",
    "\n",
    "#### ⇑⇓ Stats Note ⇑⇓\n",
    "\n",
    "`In simple linear regression, R² is equal to the square of Pearson's r`\n",
    "\n",
    "1. **Pearson's r  :**\n",
    "   Ranges from -1 to +1, with -1 representing strong negative correlation, 0 no correlation, +1 representing strong positive correlation. Use when you want to understand the strength and direction of the relationship between two variables.\n",
    "1. **R²  :**\n",
    "   Represents the percentage of variance in the dependent variable that is explained by the independent variable. R² always ranges from 0 to 1 (explaining from 0% to 100% of the variance). Higher values indicate better fit. Use when assessing goodness-of-fit.\n",
    "\n",
    "</div> "
   ]
  },
  {
   "cell_type": "code",
   "execution_count": null,
   "metadata": {},
   "outputs": [],
   "source": [
    "# You can automatically correlate each column (numeric variable) in your dataframe \n",
    "# against every other (numeric variable) in your dataframe. Here, we only have two\n",
    "# but check the relationship between Sea Surface Temperature vs Sea Surface Height\n",
    "\n",
    "dataframe[['Temperature', 'Height', 'Salinity']].corr()\n",
    "\n",
    "# NOTE: you can round values to n decimal places with '.round(n)' -- give it a try"
   ]
  },
  {
   "cell_type": "markdown",
   "metadata": {},
   "source": [
    "<div class=\"alert alert-info\" \n",
    "    style=\"font-size: 1em; padding: 10px; margin: 0px 0; text-align: left\">\n",
    "    \n",
    "     The .corr() function outputs a 2 × 2 table of rows and columns with cross-correlation r-values for all the numeric \n",
    "     data columns 'Temperature', 'Height', 'Salinity' that we specified from our dataframe.\n",
    "\n",
    "     If we just want the single Pearson r and/or Goodness of Fit R² outputs, we can use the same function in a slightly \n",
    "     different way. Take a look!\n",
    "     \n",
    "</div>"
   ]
  },
  {
   "cell_type": "code",
   "execution_count": null,
   "metadata": {},
   "outputs": [],
   "source": [
    "# - Output just the Pearson correlation coefficient, r \n",
    "#   or the 'goodness of fit', R² without a 2 x 2 table\n",
    "\n",
    "r  = dataframe['Salinity'].corr(dataframe['Height'])\n",
    "R2 = r ** 2\n",
    "\n",
    "r, R2"
   ]
  },
  {
   "cell_type": "markdown",
   "metadata": {},
   "source": [
    "<div class=\"alert alert-info\" role=\"alert\"\n",
    "     style=\"color:#000; font-size:1em; background-color:white; padding:10px; margin:1px; text-align:left;\">\n",
    "\n",
    "#### ⇑⇓ Quick Reminder ⇑⇓\n",
    "     \n",
    "    Python's inbuilt f-string command can be used to print numerical output to n (usually 2) decimal places - this does \n",
    "    NOT change the actual values held by our variables (a, b, diff, prod, avrg), only the format of what is printed.\n",
    "\n",
    "    Let's use it to display nicer output of r and R²\n",
    "</div>"
   ]
  },
  {
   "cell_type": "code",
   "execution_count": null,
   "metadata": {},
   "outputs": [],
   "source": [
    "# Display output nicely\n",
    "\n",
    "print(f\"r  = {r:.2f}\")\n",
    "print(f\"R² = {R2:.2f}\")\n"
   ]
  },
  {
   "cell_type": "markdown",
   "metadata": {},
   "source": [
    "### 6. We can also visualise correlation with `matplotlib` `scatter`"
   ]
  },
  {
   "cell_type": "code",
   "execution_count": null,
   "metadata": {},
   "outputs": [],
   "source": [
    "plt.scatter(dataframe['Salinity'], dataframe['Height'])"
   ]
  },
  {
   "cell_type": "code",
   "execution_count": null,
   "metadata": {},
   "outputs": [],
   "source": [
    "# To make plotting easier:\n",
    "\n",
    "# Short variable names x,y\n",
    "x = dataframe['Salinity']\n",
    "y = dataframe['Height']\n"
   ]
  },
  {
   "cell_type": "code",
   "execution_count": null,
   "metadata": {},
   "outputs": [],
   "source": [
    "# To make our figure nicer:\n",
    "\n",
    "# Step 1: create fig n with axes, set size to 4 × 4 (length, height)\n",
    "fig1, ax = plt.subplots(figsize = (4, 4))\n",
    "\n",
    "# Step 2: Scatter Salinity (x), Height (y)\n",
    "plt.scatter(x, y)\n",
    "\n",
    "# Step 3: Call axes (ax) to format\n",
    "\n",
    "# e.g.: add dotted grey gridlines\n",
    "ax.grid(True, color = 'lightgrey', \n",
    "        linestyle = ':', linewidth = 0.5)\n",
    "\n",
    "# e.g.: add x and y-axis labels\n",
    "ax.set_xlabel('Sea Surface Salinity (psu)')\n",
    "ax.set_ylabel('Sea Surface Height (m)')\n",
    "\n",
    "# e.g.: add figure header\n",
    "ax.set_title(\"Scatterplot\")\n",
    "\n",
    "# Last step: display figure\n",
    "plt.show()"
   ]
  },
  {
   "cell_type": "markdown",
   "metadata": {},
   "source": [
    "<div class=\"alert alert-info\" \n",
    "    style=\"font-size: 1em; padding: 10px; margin: 0px 0; text-align: left\">\n",
    "\n",
    "     Last step:\n",
    "     Using the numpy plotfit function, it is super straightforward to calculate and fit a linear (1st degree polynomial)\n",
    "     trendline.\n",
    "     \n",
    "     y = mx + c  where:\n",
    "       • m is the slope\n",
    "       • c is intercept\n",
    "         \n",
    "</div> "
   ]
  },
  {
   "cell_type": "code",
   "execution_count": null,
   "metadata": {},
   "outputs": [],
   "source": [
    "# Apply polyfit to x, y, 1=1st degree\n",
    "# output the slope m, the intercept c\n",
    "\n",
    "m, c = np.polyfit(x, y, 1)\n",
    "\n",
    "print(f\"m = {m:.3f}\")\n",
    "print(f\"c = {c:.2f}\")\n"
   ]
  },
  {
   "cell_type": "code",
   "execution_count": null,
   "metadata": {},
   "outputs": [],
   "source": [
    "# Step 1: create fig n with axes, set size 4 × 4 inches\n",
    "fig2, ax = plt.subplots(figsize = (4, 4))\n",
    "\n",
    "# Step 2: Scatter Salinity, Height data from dataframe\n",
    "plt.scatter(x, y)\n",
    "\n",
    "# Step 3: Call axes (ax) to format\n",
    "# e.g.: add red trendline\n",
    "plt.plot(x, m*x + c, color = 'red', linewidth = 1,\n",
    "         label = f\"y = {m:.2f}x + {c:.2f}\")\n",
    "\n",
    "# e.g.: add dotted grey gridlines\n",
    "ax.grid(True, color = 'lightgrey', \n",
    "        linestyle = ':', linewidth = 0.5)\n",
    "\n",
    "# e.g.: add labels\n",
    "ax.set_xlabel('Sea Surface Salinity (psu)')\n",
    "ax.set_ylabel('Sea Surface Height (m)')\n",
    "\n",
    "# e.g.: add header\n",
    "ax.set_title(\"Scatterplot with Trendline\")\n",
    "\n",
    "# Show Legend\n",
    "ax.legend()\n",
    "\n",
    "# Last step: display figure\n",
    "plt.show()"
   ]
  },
  {
   "cell_type": "markdown",
   "metadata": {},
   "source": [
    "### 7. Save Python figures with `savefig`, inputting `name.png` and `dpi` resolution (dots per inch)."
   ]
  },
  {
   "cell_type": "code",
   "execution_count": null,
   "metadata": {},
   "outputs": [],
   "source": [
    "# Save your figure by uncommenting the next line of code\n",
    "#fig2.savefig('Scatterplot_with_Trendline.png', dpi = 300, bbox_inches = 'tight')"
   ]
  },
  {
   "cell_type": "markdown",
   "metadata": {},
   "source": [
    "<div class = \"alert alert-info\" role = \"alert\" \n",
    "     style = \"color:#000; font-size: 1em; padding: 5px; margin: 0px; text-align: left\">\n",
    "\n",
    "#### **>** Optional\n",
    "     Lineplot!\n",
    "     If you're curious about how your variables change over time, try the code block below. \n",
    "</div> "
   ]
  },
  {
   "cell_type": "markdown",
   "metadata": {},
   "source": [
    "<div class = \"alert alert-info\" role = \"alert\" \n",
    "     style = \"color:#000; font-size: 1.1em; padding: 10px; margin: 0px 0; text-align: left\">\n",
    "\n",
    "\n",
    "**☆ Your Input Needed Here: ☆**\n",
    "    \n",
    "1. Replace ['`Column Name Here`'] with your chosen dataframe variable when plotting\n",
    "   - `x` = dataframe[`'Dates'`], `y` = dataframe[`'Column Name Here'`]\n",
    "1. Add the corresponding details to `y-label` when setting ax, `axes`.\n",
    "   \n",
    "</div>"
   ]
  },
  {
   "cell_type": "code",
   "execution_count": null,
   "metadata": {},
   "outputs": [],
   "source": [
    "# First, when you're going to plot your data over time,\n",
    "# ensure dataframe 'Dates' are in the 'datetime' format\n",
    "dataframe['Dates'] = pd.to_datetime(dataframe['Dates'])\n",
    "\n",
    "# -----------------------------------------------------\n",
    "# Now make your lineplot of dataframe['name'] over time\n",
    "\n",
    "# Create fig with axes, size 13 x 4 (l, h)\n",
    "fig3, ax = plt.subplots(figsize = (13, 4))\n",
    "\n",
    "# Lineplot of your selected variable over time,\n",
    "# with units on the y-axis, Dates on the x-axis\n",
    "plt.plot(dataframe['Dates'], dataframe['Column Name Here'])\n",
    "\n",
    "# Format figure\n",
    "# Add gridlines\n",
    "ax.grid(True, color = 'lightgrey', \n",
    "        linestyle = ':', linewidth = 0.5)\n",
    "\n",
    "# Add xy labels\n",
    "ax.set_xlabel('Time')\n",
    "ax.set_ylabel('Selected Variable (units)')\n",
    "\n",
    "# Add a header\n",
    "ax.set_title(\"Lineplot of variable over time\")\n",
    "\n",
    "# Show Legend\n",
    "ax.legend()\n",
    "# Show figure\n",
    "plt.show()"
   ]
  }
 ],
 "metadata": {
  "colab": {
   "name": "CMEMS Timeseries tutorial.ipynb",
   "provenance": []
  },
  "kernelspec": {
   "display_name": "Python 3 (ipykernel)",
   "language": "python",
   "name": "python3"
  },
  "language_info": {
   "codemirror_mode": {
    "name": "ipython",
    "version": 3
   },
   "file_extension": ".py",
   "mimetype": "text/x-python",
   "name": "python",
   "nbconvert_exporter": "python",
   "pygments_lexer": "ipython3",
   "version": "3.12.7"
  }
 },
 "nbformat": 4,
 "nbformat_minor": 4
}
