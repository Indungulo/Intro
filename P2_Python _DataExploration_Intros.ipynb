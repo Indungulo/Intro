{
 "cells": [
  {
   "cell_type": "raw",
   "metadata": {},
   "source": [
    "Authors: L. Biermann (UoP) and Haden Pelletier (https://medium.com/@pelletierhaden).\n",
    "Credits: This code was originally developed for the MaRS Modules.\n",
    "License: This code is offered as free-to-use in the public domain, with no warranty.\n",
    "Date_V1: 27/04/2025"
   ]
  },
  {
   "cell_type": "markdown",
   "metadata": {
    "id": "ohKAsTz_VE6K"
   },
   "source": [
    "# Python '`1-liners`' to start you on your data exploration journey."
   ]
  },
  {
   "cell_type": "markdown",
   "metadata": {},
   "source": [
    "<div class = \"alert alert-info\" role = \"alert\" \n",
    "     style = \"font-size: 1.7em; padding: 15px; margin: 10px 0; text-align: center; background-color: #d9edf7; \n",
    "    border-color: #bce8f1; color: #31708f; border-radius: 8px;\">\n",
    "    In this tutorial, we will be kicking off exploratory data analysis using 5 simple but essential approaches\n",
    "\n",
    "</div>"
   ]
  },
  {
   "cell_type": "markdown",
   "metadata": {},
   "source": [
    "### First key step: Import the python libraries you'll need -- basic setup"
   ]
  },
  {
   "cell_type": "code",
   "execution_count": null,
   "metadata": {},
   "outputs": [],
   "source": [
    "# Data Handling and Manipulation\n",
    "import numpy as np\n",
    "import pandas as pd\n",
    "\n",
    "# Data Visualisation and Plots\n",
    "import plotly.express as px\n",
    "\n",
    "# Supress warnings (not errors)\n",
    "import warnings\n",
    "warnings.filterwarnings('ignore')"
   ]
  },
  {
   "cell_type": "markdown",
   "metadata": {},
   "source": [
    "### Load data using pandas' `read_csv function`"
   ]
  },
  {
   "cell_type": "code",
   "execution_count": null,
   "metadata": {},
   "outputs": [],
   "source": [
    "# Let's give our input data file a short name so we can use it more easily later:\n",
    "data_file = 'P2_TestData_CMEMS.csv'"
   ]
  },
  {
   "cell_type": "code",
   "execution_count": null,
   "metadata": {},
   "outputs": [],
   "source": [
    "# Import our named text file (data_file) as a dataframe (df)\n",
    "df = pd.read_csv(data_file, comment='#')   #The hashtag prevents commented lines from being read\n",
    "\n",
    "# Look inside your dataframe using 'print'\n",
    "print(df)"
   ]
  },
  {
   "cell_type": "markdown",
   "metadata": {},
   "source": [
    "### Exploring your data using 1-liners"
   ]
  },
  {
   "cell_type": "markdown",
   "metadata": {},
   "source": [
    "<div class=\"alert alert-info\" role=\"alert\" \n",
    "     style=\"font-size: 1.1em; padding: 10px; margin: 10px 0; text-align: left;\">\n",
    "\n",
    "     .  \n",
    "     That looks good! Now you are going to use 5 brilliant 1-liners to explore your data more fully.\n",
    "    \n",
    "       1) df.info() \n",
    "       2) df.describe()\n",
    "       3) df.value_counts()\n",
    "       4) df.corr()\n",
    "       5) px.scatter & px.line w/ trendline       \n",
    "    .\n",
    "</div>"
   ]
  },
  {
   "cell_type": "code",
   "execution_count": null,
   "metadata": {},
   "outputs": [],
   "source": [
    "df.info()"
   ]
  },
  {
   "cell_type": "code",
   "execution_count": null,
   "metadata": {},
   "outputs": [],
   "source": [
    "df.describe()"
   ]
  },
  {
   "cell_type": "code",
   "execution_count": null,
   "metadata": {},
   "outputs": [],
   "source": [
    "df[['SST']].describe()"
   ]
  },
  {
   "cell_type": "code",
   "execution_count": null,
   "metadata": {},
   "outputs": [],
   "source": [
    "df[['SST']].value_counts()"
   ]
  },
  {
   "cell_type": "code",
   "execution_count": null,
   "metadata": {},
   "outputs": [],
   "source": [
    "df[['SSH', 'SST', 'SSS', 'MLD']].corr()"
   ]
  },
  {
   "cell_type": "code",
   "execution_count": null,
   "metadata": {},
   "outputs": [],
   "source": [
    "df[['SSH', 'SST', 'SSS', 'MLD']].corr().round(2)"
   ]
  },
  {
   "cell_type": "markdown",
   "metadata": {},
   "source": [
    "### Step 5: Line plot of `air temperatures` and `wind speeds` from your birthday day"
   ]
  },
  {
   "cell_type": "code",
   "execution_count": null,
   "metadata": {},
   "outputs": [],
   "source": [
    "# Line plot\n",
    "px.line(df, x = 'Date', y = 'SST')"
   ]
  },
  {
   "cell_type": "code",
   "execution_count": null,
   "metadata": {},
   "outputs": [],
   "source": [
    "# Scatter plot\n",
    "px.scatter(df, x = 'Date', y = 'SST')"
   ]
  },
  {
   "cell_type": "code",
   "execution_count": null,
   "metadata": {},
   "outputs": [],
   "source": [
    "# Scatter plot with trendline\n",
    "px.scatter(df, x = 'SST', y = 'SSH', \n",
    "           trendline = 'ols', trendline_color_override = 'navy')"
   ]
  },
  {
   "cell_type": "markdown",
   "metadata": {},
   "source": [
    "<div class=\"alert alert-info\" role=\"alert\" \n",
    "     style=\"font-size: 1.1em; padding: 10px; margin: 10px 0; text-align: center;\">\n",
    " \n",
    "     Neat trick: Hover over the OLS trendline to see `y  = mx + c` linear equation as well as the `R²` value.\n",
    "\n",
    "</div>"
   ]
  }
 ],
 "metadata": {
  "colab": {
   "name": "CMEMS Timeseries tutorial.ipynb",
   "provenance": []
  },
  "kernelspec": {
   "display_name": "Python 3 (ipykernel)",
   "language": "python",
   "name": "python3"
  },
  "language_info": {
   "codemirror_mode": {
    "name": "ipython",
    "version": 3
   },
   "file_extension": ".py",
   "mimetype": "text/x-python",
   "name": "python",
   "nbconvert_exporter": "python",
   "pygments_lexer": "ipython3",
   "version": "3.11.8"
  }
 },
 "nbformat": 4,
 "nbformat_minor": 4
}
