{
 "cells": [
  {
   "cell_type": "raw",
   "id": "c0c52cf1-60c1-4890-97a9-d3bc4269d461",
   "metadata": {},
   "source": [
    "Authors: L. Biermann (UoP)  \n",
    "Credits: Originally developed for the MaRS Modules.\n",
    "License: This code is offered as free-to-use in the public domain, with no warranty.\n",
    "Date_V3: 17/06/2025"
   ]
  },
  {
   "cell_type": "markdown",
   "id": "1c2b1367",
   "metadata": {},
   "source": [
    "### `Analysis of 1D Timeseries SST Data`"
   ]
  },
  {
   "cell_type": "markdown",
   "id": "b35b9f9d-2f64-439f-8aa1-d71a0d3e68d8",
   "metadata": {},
   "source": [
    "<div class = \"alert alert-info\" role = \"alert\" \n",
    "     style = \"font-size: 1.2em; padding: 15px; margin: 0px 0; text-align: center\">\n",
    "    \n",
    "    In this tutorial, we will be assessing if Ocean Temperatures have been changing \n",
    "    over time in our area of interest.\n",
    "\n",
    "</div>"
   ]
  },
  {
   "attachments": {},
   "cell_type": "markdown",
   "id": "ca87a30d-71a3-4c51-903d-16cc2e45f177",
   "metadata": {},
   "source": [
    "<div class=\"alert alert-info\" role=\"alert\"\n",
    "     style=\"color:#000; font-size:1.1em; background-color:white; padding:10px; margin:1px; text-align:left;\">\n",
    "\n",
    "\n",
    "### Daily [Sea Surface temperature (SST)](https://data.marine.copernicus.eu/product/SST_GLO_SST_L4_REP_OBSERVATIONS_010_011/description) product available from the Copernicus Marine Service, [CMEMS](https://marine.copernicus.eu).\n",
    "\n",
    "### ▶ For data downloading, YOU need to follow these steps:\n",
    "- `Regsiter` on CMEMS so you can download their freely available datasets. You should get an email validation link within minutes.\n",
    "- Once your account is validated, log in, and type `OSTIA` in the `FREE TEXT SEARCH` box (top left-hand-side), press enter to load results.\n",
    "- Hover over the map thumbnail then click on the blue `VIEW PRODUCT` banner -- this should open the `MyOcean Pro` global map.\n",
    "- Navigate to Fuerteventura, the second largest of Spain’s Canary Islands, where an endemic species of limpet is facing extinction despite concerted conservation efforts. \n",
    "- Click on any part of the map near Fuerteventura - the pop-up graph from your selected point in space should show SST over time. \n",
    "- Click on `...` on `Graph Options` and export the SST data in **`CSV`** (Comma Separated Values) format.\n",
    "- Move your downloaded CSV file to the `data` folder nested in the folder your are running your Jupyter Notebooks from.\n",
    "\n",
    "</div>"
   ]
  },
  {
   "cell_type": "markdown",
   "id": "3bbd7f3c-de8f-48fe-bcb0-433c746a6ba7",
   "metadata": {},
   "source": [
    "<div class=\"alert alert-info\" role=\"alert\" \n",
    "     style=\"font-size: 1.em; text-align: left; border-radius: 8px;\">\n",
    "\n",
    "     Assessing SST... \n",
    "     How would we instruct a computer to do this for us? \n",
    "     \n",
    "     When you're still learning to code, it helps to first write out the steps you would need to analyse your data. \n",
    "     Code - whether it is Python or R - is a type of instructive language that a computer \"understands\". In other words, \n",
    "     coding is the process of giving your computer clear instructions so that it can do your work for you.\n",
    "     \n",
    "\n",
    "</div>"
   ]
  },
  {
   "cell_type": "markdown",
   "id": "ffc51957-1360-42a3-bff0-37ee67723e85",
   "metadata": {},
   "source": [
    "<div class=\"alert alert-info\" role=\"alert\"\n",
    "     style=\"color:#000; font-size:1.1em; background-color:white; padding:10px; margin:1px; text-align:left;\">\n",
    "\n",
    "    \n",
    "### ▶ For data processing, Python needs to follow these steps:\n",
    "1. Import the libraries needed for (i) data analysis (`numpy`, `pandas`) and (ii) plotting (`matplotlib`).\n",
    "1. Load the CMEMS SST data into a neat table that is easy to work with, say a `dataframe` called sst_df.\n",
    "1. Let me LOOK at the information inside the dataframe I just made:\n",
    "    - was this import successful?\n",
    "    - are my successfully imported data in an ideal format?\n",
    "1. If no, help me to fix my problems. For example, convert `UTC` to a Date format that is nicer to work with.\n",
    "1. Let me see variations of SST through time with a `line plot` (Fig 1).\n",
    "2. Help do some analysis, like finding the `min`, `max`, and `mean` SST.\n",
    "3. Add a red horizontal line of `mean` plus stars to show positions of the `min` and `max` SST (Fig 2).\n",
    "1. Calculate `slope` and `intercept` (linear regression of SST over time); add this to my plot (Fig 3).\n",
    "1. Check if the change in SST we see here is statistically significant using a `Mann-Kendall` test.\n",
    "1. Show me features and distributions of SST over the full time series with a table and a `boxplot`.\n",
    "\n",
    "</div>"
   ]
  },
  {
   "cell_type": "markdown",
   "id": "a7494b02",
   "metadata": {},
   "source": [
    "### Step 1 ▶ ALWAYS first import the `libraries` you'll need -- basic setup"
   ]
  },
  {
   "cell_type": "code",
   "execution_count": null,
   "id": "72bdf7da-c539-4e3f-91a2-888fd4f9d26a",
   "metadata": {},
   "outputs": [],
   "source": [
    "# Data Handling and Manipulation\n",
    "import os\n",
    "import numpy as np\n",
    "import pandas as pd\n",
    "\n",
    "# Date Handling and Manipulation\n",
    "import matplotlib.dates as mdates\n",
    "from matplotlib.dates import num2date\n",
    "\n",
    "# Data Visualisation and Plots\n",
    "import matplotlib.pyplot as plt\n",
    "\n",
    "# Statistical Testing\n",
    "import pymannkendall as mk\n",
    "from scipy.stats import linregress\n",
    "\n",
    "# Supress Warnings (not errors)\n",
    "import warnings\n",
    "warnings.filterwarnings('ignore')"
   ]
  },
  {
   "cell_type": "markdown",
   "id": "bd4f0410",
   "metadata": {},
   "source": [
    "### Step 2 ▶ Import the data into a dataframe using `pandas` `read_csv` function"
   ]
  },
  {
   "cell_type": "code",
   "execution_count": null,
   "id": "b9072525",
   "metadata": {},
   "outputs": [],
   "source": [
    "# Step 1: - Give directions to your data (set the path) \n",
    "#         - Give your long filename a short name, file\n",
    "\n",
    "path = \"data/\"\n",
    "file = \"P3_TestData_MET-Global-SST-L4.csv\"\n"
   ]
  },
  {
   "cell_type": "code",
   "execution_count": null,
   "id": "1eab61a8",
   "metadata": {},
   "outputs": [],
   "source": [
    "# Step 2: Import your sst data into pandas dataframe, df_sst\n",
    "\n",
    "df_sst = pd.read_csv(os.path.join(path, file), comment = '#')   #hashtag prevents text from being read\n"
   ]
  },
  {
   "cell_type": "markdown",
   "id": "48a0ba08-b337-4208-ac44-4eacc0870285",
   "metadata": {},
   "source": [
    "### Step 3 ▶ Use `info` and `print` to look inside dataframe, and check success"
   ]
  },
  {
   "cell_type": "code",
   "execution_count": null,
   "id": "7a511ea2-18c8-43a5-81d2-ab96533d0428",
   "metadata": {},
   "outputs": [],
   "source": [
    "# Info Dump!\n",
    "df_sst.info()"
   ]
  },
  {
   "cell_type": "code",
   "execution_count": null,
   "id": "50e95e79-9b6a-4ea0-884c-cbd535cda9c5",
   "metadata": {},
   "outputs": [],
   "source": [
    "# Print first n lines using .head(n)\n",
    "# or use .tail(n) to print last few!\n",
    "print(df_sst.tail(3))"
   ]
  },
  {
   "cell_type": "markdown",
   "id": "c838affe-b0e4-4d5e-8494-43c9ffe25dac",
   "metadata": {},
   "source": [
    "<div class=\"alert alert-info\" role=\"alert\" \n",
    "     style=\"font-size: 1.0em; text-align: center; border-radius: 8px;\">\n",
    "    \n",
    "    Dates are provided as 'time' in UTC (Coordinated Universal Time), which can be tricky to work with. \n",
    "    To simplify, we can convert time to dates using the datetime function in the pandas library. \n",
    "\n",
    "</div>"
   ]
  },
  {
   "cell_type": "markdown",
   "id": "ae10602a-b6fe-4c2e-8d66-0bb1d56536b7",
   "metadata": {},
   "source": [
    "### Step 4 ▶ Basic Data Analysis including use of `pandas` `datetime` function to fix Dates"
   ]
  },
  {
   "cell_type": "markdown",
   "id": "785c8784-76ff-4fea-bc60-18e20efd4328",
   "metadata": {},
   "source": [
    "<div class=\"alert alert-info\" role=\"alert\"\n",
    "     style=\"color:#000; font-size:1em; background-color:white; padding:10px; margin:1px; text-align:left;\">\n",
    "\n",
    "#### ⇑⇓ Quick Reminder ⇑⇓\n",
    "    By default, imported dates / times will be data type 'object'. Here, 'time' was in UTC (Coordinated Universal Time), \n",
    "    which is tricky to work with. \n",
    "    \n",
    "    We will now (1) apply pandas.to_datetime function to successfully convert the 'object' time to 'datetime64[ns]' and \n",
    "    (2) save output in a new column 'Dates' in dataframe, df_sst. \n",
    "    \n",
    "    This is going to be easier to work with, particularly for the upcoming plotting of our data over the time-series.\n",
    "    \n",
    "    \n",
    "</div>    "
   ]
  },
  {
   "cell_type": "code",
   "execution_count": null,
   "id": "8df8d026",
   "metadata": {},
   "outputs": [],
   "source": [
    "# Convert object 'time' to datetime 'Dates'\n",
    "#- Add new 'Dates' column to df_sst and fill it with converted UTC 'time' values \n",
    "df_sst['Dates'] = pd.to_datetime(df_sst['time'], format = '%Y-%m-%dT%H:%M:%S.%fZ', \n",
    "                                 utc = True).dt.floor('T').dt.tz_convert(None)\n",
    "print(df_sst['time'].dtype )\n",
    "print(df_sst['Dates'].dtype)\n",
    "print() # --- prints an empty line ---\n",
    "\n",
    "print(df_sst.head(3))"
   ]
  },
  {
   "cell_type": "code",
   "execution_count": null,
   "id": "9cc059cf-a8f9-4ec4-9e04-32d24e01ee5a",
   "metadata": {},
   "outputs": [],
   "source": [
    "# OPTIONAL commands for neatening dataframe:\n",
    "\n",
    "# 1: Drop the 'time' column  \n",
    "# - we won't need it as we have 'Dates'\n",
    "df_sst = df_sst.drop(columns = ['time'])\n",
    "\n",
    "# 2: Shuffle columns so Date is 1st again\n",
    "df_sst = df_sst[['Dates','analysed_sst']]\n",
    "\n",
    "# 3. Rename 'analysed_sst' header for simplicity\n",
    "df_sst.rename(columns = {'analysed_sst': 'SST'}, \n",
    "              inplace = True)\n",
    "\n",
    "# Display with print\n",
    "print(df_sst.head(5))"
   ]
  },
  {
   "cell_type": "markdown",
   "id": "d204d8ab",
   "metadata": {},
   "source": [
    "<div class=\"alert alert-info\" role=\"alert\"\n",
    "     style=\"color:#000; font-size:1em; background-color:white; padding:10px; margin:1px; text-align:left;\">\n",
    "\n",
    "#### ⇑⇓ Quick Reminder ⇑⇓\n",
    "\n",
    "    To make a line of code 'active' simply remove the hashtag then run the cell.\n",
    "    \n",
    "    Thus, if you want to save your nicely formatted dataframe, df_sst, remove the hashtag from the cell below and \n",
    "    run the code to create a new .csv (comma-separated) file on your computer. \n",
    "    ---\n",
    "` Tip: Check the directory where you are running this notebook from to find it.`\n",
    "    \n",
    "</div>\n"
   ]
  },
  {
   "cell_type": "code",
   "execution_count": null,
   "id": "742a62a2",
   "metadata": {},
   "outputs": [],
   "source": [
    "#df_sst.to_csv('My_SST_datafile.csv', index = False)"
   ]
  },
  {
   "cell_type": "markdown",
   "id": "fc6bc69f-e933-4644-a8f6-ddbd43e2c293",
   "metadata": {},
   "source": [
    "### Step 4 ▶ Basic Data Analysis including use of `year.unique` function to count Years"
   ]
  },
  {
   "cell_type": "code",
   "execution_count": null,
   "id": "1b43c650-9731-4cf0-b144-27a867392404",
   "metadata": {},
   "outputs": [],
   "source": [
    "# Use 'nunique()' to count number of years\n",
    "num_yrs = df_sst['Dates'].dt.year.nunique()\n",
    "\n",
    "# Length of dataframe = number of days\n",
    "num_day = len(df_sst)\n",
    "\n",
    "# Print number of years, days in timeseries \n",
    "print(\"My Timeseries has: \")\n",
    "print(' -',num_yrs, \"years\") \n",
    "print(' -',num_day, \"days \")"
   ]
  },
  {
   "cell_type": "markdown",
   "id": "15a49d67-6688-420e-b926-3f4666ed7ba9",
   "metadata": {},
   "source": [
    "### Step 5 ▶ `Line plot` of SST over the full time-series"
   ]
  },
  {
   "cell_type": "code",
   "execution_count": null,
   "id": "479214d9",
   "metadata": {},
   "outputs": [],
   "source": [
    "# Figure 1:\n",
    "fig1, ax = plt.subplots(figsize = (15, 4))\n",
    "\n",
    "# Plot the data using 's' square markers in blue and a dotted line ':'\n",
    "plt.plot(df_sst['Dates'], df_sst['SST'], linestyle = ':', marker = 's', \n",
    "         markersize = 2, color = 'royalblue')\n",
    "\n",
    "# Format x,y axes\n",
    "# Add bold labels\n",
    "ax.set_xlabel('Time', fontweight = 'bold')\n",
    "ax.set_ylabel('Sea Surface Temperature (°C)', weight = 'bold')\n",
    "\n",
    "# Format figure\n",
    "# Add gridlines\n",
    "ax.grid(True, color = 'silver', linestyle = ':', linewidth = 0.5)\n",
    "\n",
    "# Add title with f-string\n",
    "ax.set_title(f\"Sea Surface Temperatures over {num_yrs} years\", \n",
    "             fontsize = 12)     # Change the size of the font\n",
    "\n",
    "# Show legends\n",
    "ax.legend()\n",
    "\n",
    "# Show the plot\n",
    "plt.show()"
   ]
  },
  {
   "cell_type": "markdown",
   "id": "94be8e60-a0cb-4396-bbb3-2360a8bbe2be",
   "metadata": {},
   "source": [
    "### Step 6 ▶ Basic Data Analysis including finding of `min`, `max`, and `mean` SST"
   ]
  },
  {
   "cell_type": "code",
   "execution_count": null,
   "id": "734a8544-f512-43a2-996d-ad351a002695",
   "metadata": {},
   "outputs": [],
   "source": [
    "# We can calculate data features with pandas, pd\n",
    "\n",
    "# MEAN SST\n",
    "mean_sst = df_sst['SST'].mean()\n",
    "# round to n=2 decimal places\n",
    "mean_sst = round(mean_sst, 2)\n",
    "\n",
    "# Print Mean\n",
    "print('SST °C')\n",
    "print('mean =', mean_sst)\n",
    "\n",
    "# MIN, MAX\n",
    "# Find position (idx) of min and max sst\n",
    "idx_min, idx_max = df_sst['SST'].idxmin(), df_sst['SST'].idxmax()\n",
    "\n",
    "# Rows with date, min and max SST values\n",
    "sst_min, sst_max = df_sst.loc[[idx_min]],  df_sst.loc[[idx_max]]\n",
    "\n",
    "# Actual min SST value, rounded to 2dps\n",
    "min_sst = round(df_sst['SST'].min(), 2)\n",
    "# Actual max SST value, rounded to 2dps\n",
    "max_sst = round(df_sst['SST'].max(), 2)\n",
    "\n",
    "# Print Min\n",
    "print('min  =', min_sst)\n",
    "# Print Max\n",
    "print('max  =', max_sst)"
   ]
  },
  {
   "cell_type": "markdown",
   "id": "978ccb0c-d4c4-4979-a82a-2e18d1c8f0d2",
   "metadata": {},
   "source": [
    "### Step 7 ▶ `Line plot` of SST over time ['Dates'] with `Mean`, `Min`, and `Max` shown"
   ]
  },
  {
   "cell_type": "code",
   "execution_count": null,
   "id": "8d4c1c90-d55c-4121-ac30-c5ca8c223d27",
   "metadata": {},
   "outputs": [],
   "source": [
    "# Figure 2:\n",
    "fig2, ax = plt.subplots(figsize = (15, 4))\n",
    "\n",
    "# Plot the data using 's' square markers in blue with dotted line ':'\n",
    "# This time, also add a label to your SST \n",
    "plt.plot(df_sst['Dates'], df_sst['SST'], linestyle = ':', marker = 's', \n",
    "         markersize = 2, color = 'royalblue',\n",
    "         label = 'CMEMS SST °C')\n",
    "\n",
    "# Plot the mean as a red dashed line '--' of 1.5 width, add a label\n",
    "plt.plot([df_sst['Dates'].min(), df_sst['Dates'].max()], [mean_sst, mean_sst],\n",
    "         linestyle = '--', color = 'red', linewidth = 1.5, \n",
    "         label = f'Mean: {mean_sst}°C')\n",
    "\n",
    "# Plot a star marker to highlight min and max SST at their Dates\n",
    "plt.plot(sst_min['Dates'], sst_min['SST'], marker = '*', markersize = 10, \n",
    "         color = 'navy' )\n",
    "plt.plot(sst_max['Dates'], sst_max['SST'], marker = '*', markersize = 10, \n",
    "         color = 'orangered')\n",
    "\n",
    "# Add axis labels using bold font, size 11\n",
    "ax.set_xlabel('Time', fontsize = 11, weight = 'bold')\n",
    "ax.set_ylabel('Sea Surface Temperature (°C)', fontsize = 11, weight = 'bold')\n",
    "\n",
    "# Grid formatting\n",
    "ax.grid(True, color = 'silver', linestyle = ':', linewidth = 0.5)\n",
    "\n",
    "# Display\n",
    "ax.legend()\n",
    "plt.show()"
   ]
  },
  {
   "cell_type": "markdown",
   "id": "3e0af17b-41c6-41a7-a0dd-34267e805c19",
   "metadata": {},
   "source": [
    "### Step 8 ▶ `Line plot` of SST over time ['Dates'] with addition of `Linear Regression`"
   ]
  },
  {
   "cell_type": "markdown",
   "id": "86f7475e-afc1-419b-93c3-ffec81a56083",
   "metadata": {},
   "source": [
    "<div class=\"alert alert-info\" role=\"alert\" \n",
    "     style=\"font-size: 1.1em; text-align: center; border-radius: 8px;\">\n",
    "\n",
    "    Linear Regression: Ordinary Least Squares (OLS)\n",
    "</div>"
   ]
  },
  {
   "cell_type": "code",
   "execution_count": null,
   "id": "886b7c6d-1dd7-40a3-8833-28bb9054183c",
   "metadata": {},
   "outputs": [],
   "source": [
    "# Make Dates Numeric for Regression\n",
    "x = mdates.date2num(df_sst['Dates'])\n",
    "y = df_sst['SST']\n",
    "\n",
    "# Linear Regression:\n",
    "# slope m, intercept c\n",
    "m, c, *_ = linregress(x, y)\n",
    "\n",
    "# Change over timeseries\n",
    "change = m * num_day\n",
    "\n",
    "print(f\"Slope,m : {m :.5f}°C per day\")\n",
    "print(f\"Change  : {change:.2f}°C over time-series ({num_day} days)\")"
   ]
  },
  {
   "cell_type": "code",
   "execution_count": null,
   "id": "0daaefc0-f35a-4501-a156-2e6456efa8cd",
   "metadata": {},
   "outputs": [],
   "source": [
    "# prepare fit line for plotting (next cell)\n",
    "x_fit = np.linspace(x.min(), x.max(), 100)\n",
    "y_fit = c + m * x_fit"
   ]
  },
  {
   "cell_type": "code",
   "execution_count": null,
   "id": "ec19227f",
   "metadata": {},
   "outputs": [],
   "source": [
    "# Figure 3:\n",
    "fig3, ax = plt.subplots(figsize = (15, 4))\n",
    "\n",
    "# Plot the data using 's' square markers in blue with dotted line ':'\n",
    "plt.plot(df_sst['Dates'], df_sst['SST'], linestyle = ':', marker = 's', \n",
    "         markersize = 2, color = 'royalblue',\n",
    "         # add a label\n",
    "         label = 'CMEMS SST °C')\n",
    "\n",
    "# Plot the regression fit line in red, 1.5 width\n",
    "ax.plot(num2date(x_fit), y_fit, color = 'red', linewidth = 1.5, \n",
    "        # add a label\n",
    "        label = f\"y = {m :.5f}x + {c :.2f}\")\n",
    "\n",
    "# Add axis labels using bold font, size 11\n",
    "ax.set_xlabel('Time', fontsize = 11, weight = 'bold')\n",
    "ax.set_ylabel('Sea Surface Temperature (°C)', fontsize = 11, weight = 'bold')\n",
    "\n",
    "# Grid formatting\n",
    "ax.grid(True, color = 'silver', linestyle = ':', linewidth = 0.5)\n",
    "\n",
    "# Display\n",
    "ax.legend()\n",
    "plt.show()"
   ]
  },
  {
   "cell_type": "markdown",
   "id": "6442f624-e1a9-4914-b75c-f6ce3d288be9",
   "metadata": {},
   "source": [
    "### Step 9 ▶ Test if the change in SST over time (`trend`) is statistically `significant`"
   ]
  },
  {
   "cell_type": "markdown",
   "id": "4a735b1f-23d8-4f7d-aefb-c0fefddb97fb",
   "metadata": {},
   "source": [
    "<div class=\"alert alert-info\" role=\"alert\" \n",
    "     style=\"font-size: 1.1em; text-align: center; border-radius: 8px;\">\n",
    "\n",
    "    Statistical Testing: Mann-Kendall Test\n",
    "</div>"
   ]
  },
  {
   "cell_type": "markdown",
   "id": "47a257eb-8be8-4539-899e-ca3cee36be2d",
   "metadata": {},
   "source": [
    "#### The `Mann-Kendall` Test is used to determine whether or not a significant `trend` exists in timeseries data. It is a `non-parametric` test, meaning there is no underlying assumption made about `normality`.\n",
    "\n",
    "    `OUTPUT-`\n",
    "    - 0. trend: This tells the trend-increasing, decreasing, or no trend.\n",
    "    - 1. h: True if the trend is present. False if no trend is present.\n",
    "    - 2. p: The p-value of the test.\n",
    "    - 3. z: The normalized test statistic.\n",
    "    - 4. Tau: Kendall Tau.\n",
    "    - 5. s: Mann-Kendal’s score\n",
    "    - 6. var_s: Variance S\n",
    "    - 7. slope: Theil-Sen estimator/slope\n",
    "    - 8. intercept: Intercept of Kendall-Theil Robust Line\n",
    "\n",
    "#### If you are worried about autocorrelation in your data, use a modified Mann Kendall test instead."
   ]
  },
  {
   "cell_type": "code",
   "execution_count": null,
   "id": "c163c206-5db7-40b3-9fc2-ad0eb7e4bd8e",
   "metadata": {},
   "outputs": [],
   "source": [
    "# Perform Mann Kendall Test\n",
    "trend_mk = mk.original_test(df_sst['SST'])\n",
    "\n",
    "# All MK Output\n",
    "print(trend_mk)"
   ]
  },
  {
   "cell_type": "code",
   "execution_count": null,
   "id": "3d589875-9933-4a19-adfc-d283aa5d44de",
   "metadata": {},
   "outputs": [],
   "source": [
    "# Results in a friendly format\n",
    "print(\"Friendly format M_K\")\n",
    "print(\"• Trend:\", trend_mk[0])\n",
    "print(\"• P-val:\", \"%.6f\" % trend_mk[2])\n",
    "print(\"• Slope:\", \"%.6f\" % trend_mk[7])"
   ]
  },
  {
   "cell_type": "markdown",
   "id": "41ff231b-a7c2-4bb7-ac05-6022955933df",
   "metadata": {},
   "source": [
    "### Step 10 ▶ `Tabulate` key features and show distribution of SST values with a `boxplot`"
   ]
  },
  {
   "cell_type": "markdown",
   "id": "211567a2-33a6-4845-8af7-412035c598dc",
   "metadata": {},
   "source": [
    "<div class=\"alert alert-info\" role=\"alert\" \n",
    "     style=\"font-size: 1.em; text-align: center; border-radius: 8px;\">\n",
    "    \n",
    "    Tabulate SST Parameters over the Time series\n",
    "    \n",
    "</div>"
   ]
  },
  {
   "cell_type": "code",
   "execution_count": null,
   "id": "b4382fe0-8f25-4e9e-bebc-92450a7244c9",
   "metadata": {},
   "outputs": [],
   "source": [
    "params = {\"Min °C\": [min_sst],                         # already calculated min SST\n",
    "          \"Max °C\": [max_sst],                         # already calculated max SST\n",
    "          \"Median\": [round(df_sst['SST'].median(),2)], # find median, round to 2 dps\n",
    "          \"Mean  \": [mean_sst],                        # already calculated mean SST\n",
    "          \"Sig. Trend\": [trend_mk[0]]}                 # from Mann-Kendall stat test\n",
    "\n",
    "header = [\"SST\"]\n",
    "\n",
    "# General table formatting as dataframe\n",
    "tabledf = pd.DataFrame(params, \n",
    "                       index = header)\n",
    "# Show Summary Table\n",
    "print(\"Table 1: Key SST Features over Time-Series.\")\n",
    "display(tabledf)"
   ]
  },
  {
   "cell_type": "markdown",
   "id": "a6e370bb-bdf0-466c-a968-15d40a25f99d",
   "metadata": {},
   "source": [
    "<div class=\"alert alert-info\" role=\"alert\" \n",
    "     style=\"font-size: 1.em; text-align: center; border-radius: 8px;\">\n",
    "    \n",
    "    Boxplot SST Distribution over the Time series\n",
    "    \n",
    "</div>"
   ]
  },
  {
   "cell_type": "code",
   "execution_count": null,
   "id": "6ec80c24-433a-42c2-a4cc-20f27d7ba76f",
   "metadata": {},
   "outputs": [],
   "source": [
    "# Figure 4\n",
    "fig4, ax = plt.subplots(figsize = (4, 4))\n",
    "\n",
    "# Boxplot:\n",
    "# - data and label\n",
    "plt.boxplot(df_sst['SST'], labels = ['SST'],       # required: sst data and label name\n",
    "           widths = 0.4, patch_artist = True,      # optional: box width, colour patch\n",
    "           boxprops = dict(facecolor = 'silver'),  # optional: colour to fill box\n",
    "           medianprops = dict(color  = 'red'))     # optional: colour for median line\n",
    "\n",
    "# Add gridlines\n",
    "ax.grid(True, linestyle = ':', \n",
    "        linewidth = 0.5, color = 'grey')\n",
    "\n",
    "# Add a y-label\n",
    "ax.set_ylabel('Distribution (°C)')\n",
    "\n",
    "# Add figure title\n",
    "ax.set_title(f\"SST over {num_yrs}-year timeseries\")\n",
    "\n",
    "# Show the plot\n",
    "plt.show()"
   ]
  },
  {
   "cell_type": "code",
   "execution_count": null,
   "id": "bd57d990-5051-4a19-9a75-4fc1c8164cb7",
   "metadata": {},
   "outputs": [],
   "source": [
    "# Save your figure by uncommenting the next line of code\n",
    "#fig4.savefig('SST_Boxplot.png', dpi = 300, bbox_inches = 'tight')"
   ]
  }
 ],
 "metadata": {
  "jupytext": {
   "cell_metadata_filter": "-all",
   "main_language": "python",
   "notebook_metadata_filter": "-all"
  },
  "kernelspec": {
   "display_name": "Python 3 (ipykernel)",
   "language": "python",
   "name": "python3"
  },
  "language_info": {
   "codemirror_mode": {
    "name": "ipython",
    "version": 3
   },
   "file_extension": ".py",
   "mimetype": "text/x-python",
   "name": "python",
   "nbconvert_exporter": "python",
   "pygments_lexer": "ipython3",
   "version": "3.12.7"
  }
 },
 "nbformat": 4,
 "nbformat_minor": 5
}
