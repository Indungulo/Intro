{
 "cells": [
  {
   "cell_type": "raw",
   "metadata": {},
   "source": [
    "Authors: L. Biermann (UoP)\n",
    "Credits: This code was originally developed for the MaRS Modules.\n",
    "License: This code is offered as free-to-use in the public domain, with no warranty.\n",
    "Date_V2: 15/02/2025"
   ]
  },
  {
   "cell_type": "markdown",
   "metadata": {
    "id": "ohKAsTz_VE6K"
   },
   "source": [
    "# Introduction to Data Processing in Python using Windy Birthdays!"
   ]
  },
  {
   "cell_type": "markdown",
   "metadata": {},
   "source": [
    "<div class = \"alert alert-info\" role = \"alert\" \n",
    "     style = \"font-size: 1.7em; font-weight: bold; padding: 15px; margin: 10px 0; text-align: center; background-color: #d9edf7; \n",
    "    border-color: #bce8f1; color: #31708f; border-radius: 8px;\">\n",
    "    In this tutorial, we will be downloading meteorological data from Rame Head NCI so we can \n",
    "    assess wind and temperature measurements using Python.\n",
    "\n",
    "</div>"
   ]
  },
  {
   "cell_type": "markdown",
   "metadata": {},
   "source": [
    "### Step 1: Import the python libraries you'll need -- basic setup"
   ]
  },
  {
   "cell_type": "code",
   "execution_count": null,
   "metadata": {},
   "outputs": [],
   "source": [
    "# Data Handling and Manipulation\n",
    "import os\n",
    "import numpy as np\n",
    "import pandas as pd\n",
    "\n",
    "# Data Visualisation and Plots\n",
    "import matplotlib.pyplot as plt\n",
    "import matplotlib.dates as mdates\n",
    "import seaborn as sns\n",
    "\n",
    "# Supress warnings (not errors)\n",
    "import warnings\n",
    "warnings.filterwarnings('ignore')"
   ]
  },
  {
   "cell_type": "markdown",
   "metadata": {},
   "source": [
    "### Step 2: Download a 2-day txt file from your most recent birthday from the archive using this [LINK](http://www.nci-ramehead.org.uk/weather/archive/)\n",
    "\n",
    "<div class=\"alert alert-info\" role=\"alert\" \n",
    "     style=\"font-size: 1.1em; padding: 10px; margin: 10px 0; text-align: left;\">\n",
    "    \n",
    "     Did you know?\n",
    "     -------------\n",
    "      • The Rame Head station was opened in May 1998 and is part of the National Coastwatch Institution (NCI). \n",
    "      • NCI Rame Head is one of 50 NCI stations operating around the British Isles.\n",
    "      • Learn more here if interested:\n",
    "        http://www.nci-ramehead.org.uk/weather/History_Vantage_Pro.htm\n",
    "                                                                                                             .\n",
    "</div>"
   ]
  },
  {
   "cell_type": "markdown",
   "metadata": {},
   "source": [
    "### Step 3: Load your txt file using pandas' `read_csv function`"
   ]
  },
  {
   "cell_type": "code",
   "execution_count": null,
   "metadata": {},
   "outputs": [],
   "source": [
    "# Let's give our rame head met txt file a short name so we can use it more easily later:\n",
    "rame_file  = 'P3_Test0404_RameH.txt'"
   ]
  },
  {
   "cell_type": "code",
   "execution_count": null,
   "metadata": {},
   "outputs": [],
   "source": [
    "# Import our named text file (rame_file) as a dataframe (weather_df)\n",
    "weather_df = pd.read_csv(rame_file, delimiter = '\\t') # tab delimited\n",
    "\n",
    "# Look inside your dataframe using 'print'\n",
    "print(weather_df)"
   ]
  },
  {
   "cell_type": "markdown",
   "metadata": {},
   "source": [
    "<div class=\"alert alert-info\" role=\"alert\" \n",
    "     style=\"font-size: 1.1em; padding: 10px; margin: 10px 0; text-align: left;\">\n",
    "\n",
    "       \n",
    "     That doesn't look good!\n",
    "    \n",
    "       - First, open your birthday text file using Windows File Explorer (MacBook Finder). \n",
    "       - You'll see that Rame Head have tried to make the data they provide look nice by splitting header names over \n",
    "         two lines and adding a line of dashes before the numerical data starts.\n",
    "       - Unfortunately, Python is going to struggle with this.\n",
    "      \n",
    "     There are a few ways around this. \n",
    "       - One neat option is to selectively import the columns we want by number (count). \n",
    "       - REMEMBER: Python always starts counting from zero, not one.\n",
    "       - Column 0: 'Date'; Column 1: 'Time'; Column 2: 'Temp Out'; Column 7: 'Wind Speed'\n",
    "       \n",
    "    \n",
    "</div>"
   ]
  },
  {
   "cell_type": "code",
   "execution_count": null,
   "metadata": {},
   "outputs": [],
   "source": [
    "# Column numbers (count from 0)\n",
    "columns_to_read = [0, 1, 2, 7]   \n",
    "\n",
    "# Read in data from text file to make dataframe (weather_df)\n",
    "weather_df = pd.read_csv(rame_file,                        # - short name of your data file.\n",
    "                         delim_whitespace = True,          # - this command tells pandas that columns are separated by whitespace.\n",
    "                         skiprows= 3,                      # - skips the first 3 rows which contain text and the separator line.\n",
    "                         usecols = columns_to_read,        # - tells pandas to only import the columns we pre-defined (0, 1, 2, 7).\n",
    "                         header  = None)                   # - prevents pandas from treating the first data row as a column name.\n",
    "\n",
    "# Assign easy-to-understand names to imported columns\n",
    "weather_df.columns = ['Date', 'Time', 'Temp', 'Wind']\n",
    "\n",
    "# Display first few rows of yr weather_df (dataframe)\n",
    "print(weather_df.head())"
   ]
  },
  {
   "cell_type": "markdown",
   "metadata": {},
   "source": [
    "### Step 4: Data Assessment"
   ]
  },
  {
   "cell_type": "code",
   "execution_count": null,
   "metadata": {},
   "outputs": [],
   "source": [
    "# How many unique days are in our file?\n",
    "num_days = weather_df['Date'].nunique()\n",
    "# Print the result\n",
    "print(f\"There are {num_days} days of data in the file, but we only want the birthday date.\")"
   ]
  },
  {
   "cell_type": "code",
   "execution_count": null,
   "metadata": {},
   "outputs": [],
   "source": [
    "birthday = '4/04/25'"
   ]
  },
  {
   "cell_type": "code",
   "execution_count": null,
   "metadata": {},
   "outputs": [],
   "source": [
    "# Filter 2-day dataframe for rows where 'Date' is 'birthday'\n",
    "bday_df = weather_df[weather_df['Date'] == birthday]\n",
    "# Combine Date and Time into a single datetime column\n",
    "bday_df['DTime'] = pd.to_datetime(bday_df['Date'] + ' ' + bday_df['Time'], \n",
    "                                 format = '%d/%m/%y %H:%M')\n",
    "\n",
    "# Reset 1-day dataframe index to count from row zero again\n",
    "bday_df.reset_index(drop = True, inplace = True)\n",
    "\n",
    "# Show birthday data\n",
    "print(bday_df.head(4))"
   ]
  },
  {
   "cell_type": "code",
   "execution_count": null,
   "metadata": {},
   "outputs": [],
   "source": [
    "# Calculating max and min SST values, and determining where they sit in the timeseries using pandas:\n",
    "max_wind = bday_df['Wind'].max()\n",
    "min_wind = bday_df['Wind'].min()\n",
    "\n",
    "# Finding the index of the max and min SST values\n",
    "max_wind_ind = bday_df['Wind'].idxmax()\n",
    "min_wind_ind = bday_df['Wind'].idxmin()\n",
    "\n",
    "# Getting the dates corresponding to the max and min SST values and formatting them without time\n",
    "time_max = bday_df['DTime'][max_wind_ind]\n",
    "time_min = bday_df['DTime'][min_wind_ind]\n",
    "\n",
    "# Printing the results\n",
    "print(f'The Max wind speed on my birthday was {max_wind:.1f} m/s reached at {time_max.strftime(\"%H:%M\")}')"
   ]
  },
  {
   "cell_type": "markdown",
   "metadata": {},
   "source": [
    "### Step 5: Line plot of `air temperatures` and `wind speeds` from your birthday day"
   ]
  },
  {
   "cell_type": "code",
   "execution_count": null,
   "metadata": {},
   "outputs": [],
   "source": [
    "# Figure 1: Plot your first timeseries!\n",
    "fig1, ax = plt.subplots(figsize = (15, 5), dpi = 250)\n",
    "\n",
    "# Plot the temp data using 's' square markers in red\n",
    "plt.plot(bday_df['DTime'], bday_df['Temp'], linestyle = ':', marker = 's', markersize = 1, color = 'red', \n",
    "         label = 'Temperature (°C )')\n",
    "# Plot the wind speed using 'o' round marker in blue\n",
    "plt.plot(bday_df['DTime'], bday_df['Wind'], linestyle = ':', marker = 'o', markersize = 2, color = 'blue',\n",
    "         label = 'Wind Speed (m/s)')\n",
    "\n",
    "# Set y-axis limits\n",
    "# ax.set_ylim([0 , 30])\n",
    "# Set x-axis limits\n",
    "ax.set_xlim([bday_df['DTime'].min(), bday_df['DTime'].max()])\n",
    "# Set x-axis ticks for every 1 hour\n",
    "ax.xaxis.set_major_locator(mdates.HourLocator(interval = 1))\n",
    "ax.xaxis.set_major_formatter(mdates.DateFormatter('%H:%M' ))\n",
    "# Rotate tick labels for better readability\n",
    "plt.setp(ax.get_xticklabels(), rotation = 33, ha = 'center')\n",
    "\n",
    "# Add gridlines \n",
    "ax.grid(True, color = 'silver', linestyle = ':', linewidth = 1)\n",
    "\n",
    "# Add labels\n",
    "plt.title(f\"My Birthday Weather: {birthday}\", fontsize = 11, weight = 'bold')\n",
    "plt.xlabel('Time')\n",
    "plt.legend()\n",
    "\n",
    "# Show the plot\n",
    "plt.show()"
   ]
  },
  {
   "cell_type": "code",
   "execution_count": null,
   "metadata": {},
   "outputs": [],
   "source": [
    "# Save your figure by uncommenting the next line of code\n",
    "#fig1.savefig('Birthday_LinePlot.png', dpi = 300, bbox_inches = 'tight')"
   ]
  },
  {
   "cell_type": "markdown",
   "metadata": {},
   "source": [
    "### Step 4: Boxplot of `air temperatures` and `wind speeds` from your birthday day"
   ]
  },
  {
   "cell_type": "code",
   "execution_count": null,
   "metadata": {},
   "outputs": [],
   "source": [
    "# Create your figure and axis\n",
    "fig2, ax = plt.subplots(figsize = (6, 6))\n",
    "\n",
    "# Set the overall style\n",
    "sns.set_style('whitegrid')\n",
    "\n",
    "# Boxplot with Temp and Wind as separate boxes\n",
    "ax = sns.boxplot(data = bday_df[['Temp', 'Wind']], width = 0.6, palette = \"mako\", \n",
    "                 flierprops = dict(marker = 'd', markersize = 3))\n",
    "\n",
    "# Overlay a stripplot of individual data points\n",
    "sns.stripplot(data = bday_df[['Temp', 'Wind']], palette = \"flare\", jitter = True, alpha = 0.3, size = 2)\n",
    "\n",
    "# Gridlines\n",
    "ax.grid(True, linestyle = ':', linewidth = 0.5, color = 'gray', axis = 'y')\n",
    "\n",
    "# Add title\n",
    "ax.set_title(f'Rame Head Meteorological Measurements: {birthday}', fontsize = 12, fontweight = 'bold')\n",
    "\n",
    "# Show the plot\n",
    "plt.show()"
   ]
  },
  {
   "cell_type": "code",
   "execution_count": null,
   "metadata": {},
   "outputs": [],
   "source": [
    "# Save your figure by uncommenting the next line of code\n",
    "#fig2.savefig('Birthday_Boxplots.png', dpi = 300, bbox_inches = 'tight')"
   ]
  },
  {
   "cell_type": "markdown",
   "metadata": {},
   "source": [
    "<div class=\"alert alert-info\" role=\"alert\" \n",
    "     style=\"font-size: 1.2em; padding: 10px; margin: 10px 0; text-align: center;\">\n",
    "    \n",
    "    Well done on successfully using python to plot and assess downloaded weather data from your special day!\n",
    "</div>"
   ]
  },
  {
   "cell_type": "code",
   "execution_count": null,
   "metadata": {},
   "outputs": [],
   "source": []
  }
 ],
 "metadata": {
  "colab": {
   "name": "CMEMS Timeseries tutorial.ipynb",
   "provenance": []
  },
  "kernelspec": {
   "display_name": "Python 3 (ipykernel)",
   "language": "python",
   "name": "python3"
  },
  "language_info": {
   "codemirror_mode": {
    "name": "ipython",
    "version": 3
   },
   "file_extension": ".py",
   "mimetype": "text/x-python",
   "name": "python",
   "nbconvert_exporter": "python",
   "pygments_lexer": "ipython3",
   "version": "3.11.8"
  }
 },
 "nbformat": 4,
 "nbformat_minor": 4
}
