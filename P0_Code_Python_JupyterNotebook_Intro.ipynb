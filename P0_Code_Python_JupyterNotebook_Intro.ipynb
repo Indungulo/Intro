{
 "cells": [
  {
   "cell_type": "raw",
   "metadata": {},
   "source": [
    "Authors: L. Biermann (UoP)\n",
    "Credits: This code was originally developed for the MaRS Modules.\n",
    "License: This code is offered as free-to-use in the public domain, with no warranty.\n",
    "Date_V3: 06/06/2025"
   ]
  },
  {
   "cell_type": "markdown",
   "metadata": {},
   "source": [
    "# First Introduction to Python Jupyter Notebooks"
   ]
  },
  {
   "cell_type": "markdown",
   "metadata": {},
   "source": [
    "### `This notebook will introduce some key essentials:`\n",
    "\n",
    "    - Python's print function\n",
    "    - Variables and data types\n",
    "    - Basic mathematics\n",
    "    - Lists and indexing\n",
    "    - Looping through lists\n",
    "    - Simple 'if' statements\n"
   ]
  },
  {
   "cell_type": "markdown",
   "metadata": {},
   "source": [
    "## Let’s begin with the classic \"Hello, world!\""
   ]
  },
  {
   "cell_type": "markdown",
   "metadata": {},
   "source": [
    "<div class=\"alert alert-info\" role=\"alert\" \n",
    "     style=\"font-size: 1em; padding: 2px; text-align: left;\">\n",
    "    PRINT FUNCTION\n",
    "\n",
    "     ---\n",
    "     Super helpful built-in Python function to display variables and/or output. Simple but essential tool for assessing \n",
    "     data values/ structure/ format, doing 'sanity checks', and debugging code.\n",
    "\n",
    "     Python's print() function takes one or more values (strings, numbers, or variables), converts them to strings, \n",
    "     and sends the resulting text to the screen. \n",
    "    \n",
    "     Let's test it:     \n",
    "     \n",
    "</div>"
   ]
  },
  {
   "cell_type": "code",
   "execution_count": null,
   "metadata": {},
   "outputs": [],
   "source": [
    "# Print to the screen:\n",
    "print(\"Hello, world!\")"
   ]
  },
  {
   "cell_type": "markdown",
   "metadata": {},
   "source": [
    "## Naming Conventions"
   ]
  },
  {
   "cell_type": "markdown",
   "metadata": {},
   "source": [
    "<div class=\"alert alert-info\" role=\"alert\" \n",
    "     style=\"font-size: 1.0em; padding: 1px; text-align: left;\">\n",
    "    VARIABLES AND DATA TYPES\n",
    "     \n",
    "     ---\n",
    "     A variable is a placeholder for information. \n",
    "     Think of it as the nickname that you give your data, so you can easily call it in the coding process.\n",
    "    \n",
    "     Data type is key! \n",
    "     Common types that you will come across include:\n",
    "    \n",
    "       • Text Type Data (words) : str\n",
    "       • Numeric Type (numbers) : int, float\n",
    "       • Boolean (true / false) : bool\n",
    "\n",
    "     Using Python's inbuilt 'type()' function, you can easily check what type of data you are working with.\n",
    "                                                                                       \n",
    "</div>"
   ]
  },
  {
   "cell_type": "code",
   "execution_count": null,
   "metadata": {},
   "outputs": [],
   "source": [
    "# For variable 'my_fav_number'\n",
    "# Input your favourite number \n",
    "my_fav_number = 13\n",
    "\n",
    "# For variable 'the_good_news'\n",
    "# Input some words inside \" \"\n",
    "the_good_news = \"python is ace!\"\n",
    "\n",
    "# Print output of each variable\n",
    "print(\"Number:\", my_fav_number)\n",
    "print(\"Text:\",   the_good_news)"
   ]
  },
  {
   "cell_type": "code",
   "execution_count": null,
   "metadata": {},
   "outputs": [],
   "source": [
    "# Print data type held by each variable\n",
    "print(type(my_fav_number))\n",
    "print(type(the_good_news))"
   ]
  },
  {
   "cell_type": "markdown",
   "metadata": {},
   "source": [
    "## Basic Mathematics"
   ]
  },
  {
   "cell_type": "code",
   "execution_count": null,
   "metadata": {},
   "outputs": [],
   "source": [
    "# For variable a and b\n",
    "# Input number to each\n",
    "a = 55.427\n",
    "b = 321\n",
    "c = -39\n",
    "\n",
    "# Check type is number\n",
    "print(\"a:\", type(a)) \n",
    "print(\"b:\", type(b))\n",
    "print(\"c:\", type(c))"
   ]
  },
  {
   "cell_type": "markdown",
   "metadata": {},
   "source": [
    "<div class=\"alert alert-info\" \n",
    "style=\"font-size: 1.1em; color: #212529; background-color: white; padding: 10px; margin: 0px 0; text-align: left\">\n",
    "\n",
    "   **Question:**\n",
    "These numbers are all real numbers. But what makes ` a ` the data type 'float',  and ` b `, ` c ` the data type 'int'?\n",
    "</div>"
   ]
  },
  {
   "cell_type": "markdown",
   "metadata": {},
   "source": [
    "<div class=\"alert alert-info\" \n",
    "    style=\"font-size: 1em; color: #212529; background-color: white; padding: 1px; margin: 0px 0; text-align: left\">\n",
    "    \n",
    "     Answer:\n",
    "      ‣ Int, or integer, is a whole number (positive or negative) without decimals.\n",
    "      ‣ Float, or floating point number, is a positive or negative number containing decimals. A float type number can also be \n",
    "        a scientific number e.g.: 16e3 where \"e\" is to the power of 10. \n",
    "        \n",
    "</div>"
   ]
  },
  {
   "cell_type": "code",
   "execution_count": null,
   "metadata": {},
   "outputs": [],
   "source": [
    "# Now you can do calculations using a and b, which are 'holding' your input numerical data:\n",
    "(a + b) * 0.5"
   ]
  },
  {
   "cell_type": "code",
   "execution_count": null,
   "metadata": {},
   "outputs": [],
   "source": [
    "# You can also assign variable names to 'hold' your results:\n",
    "diff = a - b\n",
    "prod = a * b\n",
    "avrg = (a + b) / 2\n",
    "\n",
    "# Display the results\n",
    "print(\"Difference:\", diff)\n",
    "print(\"Product   :\", prod)\n",
    "print(\"Average   :\", avrg)"
   ]
  },
  {
   "cell_type": "markdown",
   "metadata": {},
   "source": [
    "<div class=\"alert alert-info\" \n",
    "    style=\"font-size: 1.1em; color: #212529; background-color: white; padding: 10px; margin: 10px 0; text-align: left\">\n",
    "\n",
    "\n",
    "**Optional Formatting:**\n",
    "\n",
    "Python's inbuilt ` f-string ` command can be used to print numerical output to n (usually 2) decimal places - \n",
    "this does not change the actual values held by our variables (`a`, `b`, `diff`, `prod`, `avrg`), only the format of what is printed.\n",
    "     \n",
    "\n",
    "</div>"
   ]
  },
  {
   "cell_type": "code",
   "execution_count": null,
   "metadata": {},
   "outputs": [],
   "source": [
    "# Print to n = 2 decimal places:\n",
    "print(f\"Difference: {diff:.2f}\")\n",
    "print(f\"Product   : {prod:.2f}\")\n",
    "print(f\"Average   : {avrg:.2f}\")"
   ]
  },
  {
   "cell_type": "markdown",
   "metadata": {},
   "source": [
    "## Lists and Indexing"
   ]
  },
  {
   "cell_type": "markdown",
   "metadata": {},
   "source": [
    "<div class=\"alert alert-info\"\n",
    "     style=\"font-size: 1.0em; padding: 1px; margin: 1px 0; text-align: left;\">\n",
    "     DATA STRUCTURES\n",
    "     \n",
    "     ---\n",
    "     Organising and storing data efficiently in Python:\n",
    "     • Lists are a commonly used structure to hold different types of data in a specific order. \n",
    "     • Indexing is the process of finding data (text, numeric, boolean) in a list using its position aka index number. \n",
    "    \n",
    "     REMEMBER: Python always counts from 0, meaning you do too!\n",
    "\n",
    "     Python's built-in index() function is a brilliant tool for finding whatever you are looking for in a sequence.  \n",
    "     Let's try it!\n",
    "     \n",
    "</div>"
   ]
  },
  {
   "cell_type": "code",
   "execution_count": null,
   "metadata": {},
   "outputs": [],
   "source": [
    "# For the variable ingredients\n",
    "# Input comma-separated list of fruis that would mix well in a smoothie\n",
    "# Remember: text type data (str) needs to go inside quotation marks \" \"\n",
    "ingredients = [\"banana\", \"mango\", \"strawberries\", \"blueberries\", \"apple\"]\n",
    "\n",
    "# Ensure we made a list\n",
    "print(type(ingredients))"
   ]
  },
  {
   "cell_type": "code",
   "execution_count": null,
   "metadata": {},
   "outputs": [],
   "source": [
    "# Print the list of text type data held by your variable\n",
    "print(\"My Smoothie contains:\", ingredients)\n",
    "\n",
    "# Access the first element of the list\n",
    "# NOTE: Python starts counting (indexing) from 0 not 1\n",
    "print(ingredients[0])\n",
    "\n",
    "# Access the last element of the list.\n",
    "# -1 is read by python as the final index of the list\n",
    "print(ingredients[-1])"
   ]
  },
  {
   "cell_type": "markdown",
   "metadata": {},
   "source": [
    "## Looping through the list"
   ]
  },
  {
   "cell_type": "markdown",
   "metadata": {},
   "source": [
    "<div class=\"alert alert-info\"\n",
    "     style=\"font-size: 1.0em; padding: 1px; margin: 1px 0; text-align: left;\">\n",
    "     LOOPS\n",
    "     \n",
    "     ---\n",
    "     The Python 'for-loop' can be used when:\n",
    "     1. you have a sequence (list, tuple, dictionary, set, or even a string),  and \n",
    "     2. you want to run a line (or block) of code on each element in your sequence. \n",
    "     \n",
    "     for-loops will run code on the 1st element of your sequence, then loop (reset, repeat) for each element along the sequence. \n",
    "\n",
    "     Loop Placeholders:\n",
    "     For each item in the list (\"banana\", \"mango\", \"strawberries\" etc), placeholder (ii) changes each time the loop restarts. \n",
    "     Here, the code being run on each fruit in the list is print(). Our for-loop is thus being tasked to print \n",
    "     \"banana\"   -- reset -- then \n",
    "     \"mango\"    -- reset -- then\n",
    "     \"stawberries\", etc. \n",
    "\n",
    "     I like to use nonesense placeholders like 'ii' and 'jj', but you could replace these with more meaningful terms. \n",
    "     Maybe try fruit!\n",
    "     \n",
    "</div>"
   ]
  },
  {
   "cell_type": "code",
   "execution_count": null,
   "metadata": {},
   "outputs": [],
   "source": [
    "# Use a `for loop` to iterate over list of fruit\n",
    "print(\"My smoothie contains:\")\n",
    "for ii in ingredients:\n",
    "    print(ii)"
   ]
  },
  {
   "cell_type": "code",
   "execution_count": null,
   "metadata": {},
   "outputs": [],
   "source": [
    "# Use `enumerate` to iterate over the list to get index (number) and fruit\n",
    "for idx, jj in enumerate(ingredients):\n",
    "    print(idx,'-', jj)"
   ]
  },
  {
   "cell_type": "markdown",
   "metadata": {},
   "source": [
    "## Conditional Statements"
   ]
  },
  {
   "cell_type": "markdown",
   "metadata": {},
   "source": [
    "<div class=\"alert alert-info\"\n",
    "     style=\"font-size: 1.0em; padding: 1px; margin: 1px 0; text-align: left;\">\n",
    "     IF STATEMENTS\n",
    "     \n",
    "     ---\n",
    "     Python supports standard logical conditions from mathematics:\n",
    "\n",
    "       • Equals   : a == b\n",
    "       • Not Equal: a != b\n",
    "\n",
    "       • Less than   : a < b\n",
    "       • Greater than: a > b\n",
    "\n",
    "       • Less than or equal to: a <= b\n",
    "       • Greater than/equal to: a >= b\n",
    "\n",
    "     Using keywords 'if', elif, and 'else', 'if statements' often make use of these mathematical conditions. \n",
    "     Let's try a greater than/equal to example (>=) using a simple 'if-else' statement!\n",
    "     \n",
    "</div>"
   ]
  },
  {
   "cell_type": "code",
   "execution_count": null,
   "metadata": {},
   "outputs": [],
   "source": [
    "# For variable Temp\n",
    "# Input any number\n",
    "Temp = 30\n",
    "\n",
    "if Temp >= 18:\n",
    "    print(\"It's warm enough for a smoothie! ^^\")\n",
    "else:\n",
    "    print(\"It's cold enough for hot chocolate!\")"
   ]
  },
  {
   "cell_type": "markdown",
   "metadata": {},
   "source": [
    "<div class=\"alert alert-info\"\n",
    "     style=\"font-size: 1.1em; padding: 10px; margin: 10px 0; text-align: center;\">\n",
    "    \n",
    "    Congratulations! You've learned some of the very basics of Python. Practice these concepts until you're comfortable. In future lessons, we'll build on these fundamentals with more complex tasks.\n",
    "</div>"
   ]
  }
 ],
 "metadata": {
  "kernelspec": {
   "display_name": "Python 3 (ipykernel)",
   "language": "python",
   "name": "python3"
  },
  "language_info": {
   "codemirror_mode": {
    "name": "ipython",
    "version": 3
   },
   "file_extension": ".py",
   "mimetype": "text/x-python",
   "name": "python",
   "nbconvert_exporter": "python",
   "pygments_lexer": "ipython3",
   "version": "3.12.7"
  }
 },
 "nbformat": 4,
 "nbformat_minor": 4
}
